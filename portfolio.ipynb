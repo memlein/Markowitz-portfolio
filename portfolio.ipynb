{
 "cells": [
  {
   "cell_type": "code",
   "execution_count": 3,
   "metadata": {},
   "outputs": [],
   "source": [
    "import pandas as pd \n",
    "import numpy as np \n",
    "import yfinance as yf\n",
    "import matplotlib.pyplot as plt \n",
    "import seaborn as sns; sns.set_theme()"
   ]
  },
  {
   "cell_type": "code",
   "execution_count": 69,
   "metadata": {},
   "outputs": [],
   "source": [
    "class Markowitz:\n",
    "    def __init__(self, tickers:list, start: str, end: str) -> None:\n",
    "        self.tickers = tickers\n",
    "        self.start = start\n",
    "        self.end = end\n",
    "        self.log_returns = self.get_logarithmic_returns(tickers=self.tickers, start=self.start, end=self.end)\n",
    "        self.n_assets = self.log_returns.shape[1]\n",
    "        self.efficient_frontier = None\n",
    "    \n",
    "    def get_logarithmic_returns(self, tickers: list, start: str, end: str)-> pd.DataFrame:\n",
    "        data = yf.download(tickers=tickers, start=start, end=end)[\"Adj Close\"]\n",
    "        data = pd.DataFrame(np.diff(np.log(data[1:]), axis=0) * 100, columns=data.columns)\n",
    "        data = data.dropna(axis=0)\n",
    "        return data\n",
    "    \n",
    "    def get_efficient_frontier(self):\n",
    "        n_assets = self.n_assets\n",
    "        log_returns = self.log_returns\n",
    "        mu = np.mean(log_returns, axis=0).to_numpy()\n",
    "        cov = np.cov(log_returns, rowvar=False)\n",
    "        C1 = np.linalg.inv(cov)\n",
    "        a = np.matmul(np.matmul(mu, C1), mu)\n",
    "        b = np.matmul(np.ones((1, n_assets)) ,np.matmul(C1, mu))[0]\n",
    "        d = np.matmul(np.ones((1, n_assets)), np.matmul(C1, np.ones((n_assets,1))))[0][0]\n",
    "        wvarmin = (1/d) * np.matmul(C1, np.ones((6,1)))\n",
    "        sigmamin = 1/np.sqrt(d)\n",
    "        mumin = b/d\n",
    "        sigma_p = np.arange(sigmamin, 5, 0.0001)\n",
    "        upper_optimal_PF = np.empty(shape=(sigma_p.shape[0],2))\n",
    "        upper_optimal_PF[:,0] = sigma_p\n",
    "        for i in range(0,upper_optimal_PF.shape[0]):\n",
    "            upper_optimal_PF[i,1] = mumin + np.sqrt((np.square(upper_optimal_PF[i,0]) - np.square(sigmamin)) * (a - np.square(mumin)/np.square(sigmamin)))\n",
    "        lower_optimal_PF = np.empty(shape=(sigma_p.shape[0],2))\n",
    "        lower_optimal_PF[:,0] = sigma_p\n",
    "        for i in range(0,lower_optimal_PF.shape[0]):\n",
    "            lower_optimal_PF[i,1] = mumin - np.sqrt((np.square(lower_optimal_PF[i,0]) - np.square(sigmamin)) * (a - np.square(mumin)/np.square(sigmamin)))\n",
    "        efficient_frontier = np.concatenate((upper_optimal_PF, lower_optimal_PF))\n",
    "        efficient_frontier = pd.DataFrame(efficient_frontier, columns=['std', 'mu'])\n",
    "        self.efficient_frontier = efficient_frontier\n",
    "\n",
    "    def plot_efficient_frontier(self):\n",
    "        if self.efficient_frontier is None:\n",
    "            print('No efficient frontier computed')\n",
    "        else:\n",
    "            sns.scatterplot(x = self.efficient_frontier['std'], y = self.efficient_frontier['mu'])\n",
    "\n",
    "    def get_minimum_variance_portfolio(self):\n",
    "        pass"
   ]
  },
  {
   "cell_type": "code",
   "execution_count": 72,
   "metadata": {},
   "outputs": [
    {
     "name": "stderr",
     "output_type": "stream",
     "text": [
      "[*********************100%%**********************]  6 of 6 completed\n"
     ]
    }
   ],
   "source": [
    "PF = Markowitz(tickers=[\"AAPL\", \"GOOG\", \"BAS.DE\", \"BMW.DE\", \"RWE.DE\", \"DBK.DE\"], start = \"2010-01-01\", end = \"2018-12-31\")"
   ]
  },
  {
   "cell_type": "code",
   "execution_count": 73,
   "metadata": {},
   "outputs": [],
   "source": [
    "PF.get_efficient_frontier()"
   ]
  },
  {
   "cell_type": "code",
   "execution_count": 74,
   "metadata": {},
   "outputs": [
    {
     "data": {
      "image/png": "[encoded data removed]",
      "text/plain": [
       "<Figure size 640x480 with 1 Axes>"
      ]
     },
     "metadata": {},
     "output_type": "display_data"
    }
   ],
   "source": [
    "PF.plot_efficient_frontier()"
   ]
  },
  {
   "cell_type": "code",
   "execution_count": 6,
   "metadata": {},
   "outputs": [
    {
     "name": "stderr",
     "output_type": "stream",
     "text": [
      "[*********************100%%**********************]  6 of 6 completed\n"
     ]
    }
   ],
   "source": [
    "def get_logarithmic_returns(tickers: list, start: str, end: str)-> pd.DataFrame:\n",
    "        data = yf.download(tickers=tickers, start=start, end=end)\n",
    "        data = data[\"Adj Close\"]\n",
    "        data = pd.DataFrame(np.diff(np.log(data[1:]), axis=0) * 100, columns=data.columns)\n",
    "        data = data.dropna(axis=0)\n",
    "        return data\n",
    "log_returns = get_logarithmic_returns(tickers=[\"AAPL\", \"GOOG\", \"BAS.DE\", \"BMW.DE\", \"RWE.DE\", \"DBK.DE\"], start = \"2010-01-01\", end = \"2018-12-31\")"
   ]
  },
  {
   "cell_type": "markdown",
   "metadata": {},
   "source": [
    "Efficient Frontier"
   ]
  },
  {
   "cell_type": "code",
   "execution_count": 50,
   "metadata": {},
   "outputs": [],
   "source": [
    "def get_efficient_frontier(log_returns):\n",
    "    n_assets = log_returns.shape[1]\n",
    "    mu = np.mean(log_returns, axis=0).to_numpy()\n",
    "    cov = np.cov(log_returns, rowvar=False)\n",
    "    C1 = np.linalg.inv(cov)\n",
    "    a = np.matmul(np.matmul(mu, C1), mu)\n",
    "    b = np.matmul(np.ones((1, n_assets)) ,np.matmul(C1, mu))[0]\n",
    "    d = np.matmul(np.ones((1, n_assets)), np.matmul(C1, np.ones((n_assets,1))))[0][0]\n",
    "    wvarmin = (1/d) * np.matmul(C1, np.ones((6,1)))\n",
    "    sigmamin = 1/np.sqrt(d)\n",
    "    mumin = b/d\n",
    "    sigma_p = np.arange(sigmamin, 5, 0.0001)\n",
    "    upper_optimal_PF = np.empty(shape=(sigma_p.shape[0],2))\n",
    "    upper_optimal_PF[:,0] = sigma_p\n",
    "    for i in range(0,upper_optimal_PF.shape[0]):\n",
    "        upper_optimal_PF[i,1] = mumin + np.sqrt((np.square(upper_optimal_PF[i,0]) - np.square(sigmamin)) * (a - np.square(mumin)/np.square(sigmamin)))\n",
    "    lower_optimal_PF = np.empty(shape=(sigma_p.shape[0],2))\n",
    "    lower_optimal_PF[:,0] = sigma_p\n",
    "    for i in range(0,lower_optimal_PF.shape[0]):\n",
    "        lower_optimal_PF[i,1] = mumin - np.sqrt((np.square(lower_optimal_PF[i,0]) - np.square(sigmamin)) * (a - np.square(mumin)/np.square(sigmamin)))\n",
    "    efficient_frontier = np.concatenate((upper_optimal_PF, lower_optimal_PF))\n",
    "    efficient_frontier = pd.DataFrame(efficient_frontier, columns=['std', 'mu'])\n",
    "    return efficient_frontier"
   ]
  },
  {
   "cell_type": "code",
   "execution_count": 51,
   "metadata": {},
   "outputs": [],
   "source": [
    "test1 = get_efficient_frontier(log_returns=log_returns)"
   ]
  },
  {
   "cell_type": "code",
   "execution_count": 54,
   "metadata": {},
   "outputs": [
    {
     "data": {
      "text/plain": [
       "<matplotlib.collections.PathCollection at 0x1cf31d12330>"
      ]
     },
     "execution_count": 54,
     "metadata": {},
     "output_type": "execute_result"
    },
    {
     "data": {
      "image/png": "[encoded data removed]",
      "text/plain": [
       "<Figure size 640x480 with 1 Axes>"
      ]
     },
     "metadata": {},
     "output_type": "display_data"
    }
   ],
   "source": [
    "plt.scatter(x=test1['std'], y=test1['mu'])"
   ]
  },
  {
   "cell_type": "code",
   "execution_count": 32,
   "metadata": {},
   "outputs": [
    {
     "data": {
      "text/plain": [
       "array([[ 1.05710947,  0.02813729],\n",
       "       [ 1.05720947,  0.02724172],\n",
       "       [ 1.05730947,  0.02687074],\n",
       "       ...,\n",
       "       [ 4.99970947, -0.27283499],\n",
       "       [ 4.99980947, -0.27284129],\n",
       "       [ 4.99990947, -0.27284759]])"
      ]
     },
     "execution_count": 32,
     "metadata": {},
     "output_type": "execute_result"
    }
   ],
   "source": [
    "test2"
   ]
  },
  {
   "cell_type": "code",
   "execution_count": 33,
   "metadata": {},
   "outputs": [
    {
     "data": {
      "text/plain": [
       "(39429, 2)"
      ]
     },
     "execution_count": 33,
     "metadata": {},
     "output_type": "execute_result"
    }
   ],
   "source": [
    "test1.shape"
   ]
  },
  {
   "cell_type": "code",
   "execution_count": 37,
   "metadata": {},
   "outputs": [
    {
     "data": {
      "text/plain": [
       "(78858, 2)"
      ]
     },
     "execution_count": 37,
     "metadata": {},
     "output_type": "execute_result"
    }
   ],
   "source": [
    "np.concatenate((test1, test2)).shape"
   ]
  },
  {
   "cell_type": "code",
   "execution_count": 14,
   "metadata": {},
   "outputs": [],
   "source": [
    "sigma_p = np.arange(sigmamin, 5, 0.0001)"
   ]
  },
  {
   "cell_type": "code",
   "execution_count": 16,
   "metadata": {},
   "outputs": [],
   "source": [
    "upper_optimal_PF = np.empty(shape=(sigma_p.shape[0],2))\n",
    "upper_optimal_PF[:,0] = sigma_p"
   ]
  },
  {
   "cell_type": "code",
   "execution_count": 17,
   "metadata": {},
   "outputs": [
    {
     "name": "stderr",
     "output_type": "stream",
     "text": [
      "C:\\Users\\morit\\AppData\\Local\\Temp\\ipykernel_10196\\2263337394.py:2: DeprecationWarning: Conversion of an array with ndim > 0 to a scalar is deprecated, and will error in future. Ensure you extract a single element from your array before performing this operation. (Deprecated NumPy 1.25.)\n",
      "  upper_optimal_PF[i,1] = mumin + np.sqrt((np.square(upper_optimal_PF[i,0]) - np.square(sigmamin)) * (a - np.square(mumin)/np.square(sigmamin)))\n"
     ]
    }
   ],
   "source": [
    "for i in range(0,upper_optimal_PF.shape[0]):\n",
    "    upper_optimal_PF[i,1] = mumin + np.sqrt((np.square(upper_optimal_PF[i,0]) - np.square(sigmamin)) * (a - np.square(mumin)/np.square(sigmamin)))"
   ]
  },
  {
   "cell_type": "code",
   "execution_count": 18,
   "metadata": {},
   "outputs": [
    {
     "name": "stderr",
     "output_type": "stream",
     "text": [
      "C:\\Users\\morit\\AppData\\Local\\Temp\\ipykernel_10196\\2517006218.py:4: DeprecationWarning: Conversion of an array with ndim > 0 to a scalar is deprecated, and will error in future. Ensure you extract a single element from your array before performing this operation. (Deprecated NumPy 1.25.)\n",
      "  lower_optimal_PF[i,1] = mumin - np.sqrt((np.square(lower_optimal_PF[i,0]) - np.square(sigmamin)) * (a - np.square(mumin)/np.square(sigmamin)))\n"
     ]
    }
   ],
   "source": [
    "lower_optimal_PF = np.empty(shape=(sigma_p.shape[0],2))\n",
    "lower_optimal_PF[:,0] = sigma_p\n",
    "for i in range(0,lower_optimal_PF.shape[0]):\n",
    "    lower_optimal_PF[i,1] = mumin - np.sqrt((np.square(lower_optimal_PF[i,0]) - np.square(sigmamin)) * (a - np.square(mumin)/np.square(sigmamin)))"
   ]
  },
  {
   "cell_type": "code",
   "execution_count": 20,
   "metadata": {},
   "outputs": [
    {
     "data": {
      "text/plain": [
       "<matplotlib.collections.PathCollection at 0x1b46f592ea0>"
      ]
     },
     "execution_count": 20,
     "metadata": {},
     "output_type": "execute_result"
    },
    {
     "data": {
      "image/png": "[encoded data removed]",
      "text/plain": [
       "<Figure size 640x480 with 1 Axes>"
      ]
     },
     "metadata": {},
     "output_type": "display_data"
    }
   ],
   "source": [
    "sns.scatterplot(x = lower_optimal_PF[:,0], y = lower_optimal_PF[:,1], s = 1)\n",
    "sns.scatterplot(x = upper_optimal_PF[:,0], y = upper_optimal_PF[:,1], s = 1)\n",
    "plt.scatter(x = sigmamin, y = mumin[0][0], s=2)"
   ]
  },
  {
   "cell_type": "markdown",
   "metadata": {},
   "source": [
    "Simulate random Portfolio"
   ]
  },
  {
   "cell_type": "code",
   "execution_count": 4,
   "metadata": {},
   "outputs": [],
   "source": [
    "# allow negative pf weights?"
   ]
  },
  {
   "cell_type": "code",
   "execution_count": 21,
   "metadata": {},
   "outputs": [],
   "source": [
    "cov = np.cov(log_returns, rowvar=False)"
   ]
  },
  {
   "cell_type": "code",
   "execution_count": 24,
   "metadata": {},
   "outputs": [],
   "source": [
    "def get_random_portfolio_weights(n_portfolios, n_assets):\n",
    "    random_portfolio_weights = np.random.rand(n_portfolios,n_assets)\n",
    "    random_portfolio_weights = random_portfolio_weights/random_portfolio_weights.sum(axis=1, keepdims=True)\n",
    "    return random_portfolio_weights"
   ]
  },
  {
   "cell_type": "code",
   "execution_count": 27,
   "metadata": {},
   "outputs": [],
   "source": [
    "random_portfolio_weights = get_random_portfolio_weights(500, 6)"
   ]
  },
  {
   "cell_type": "code",
   "execution_count": 62,
   "metadata": {},
   "outputs": [
    {
     "data": {
      "text/plain": [
       "np.float64(-0.016175371238589097)"
      ]
     },
     "execution_count": 62,
     "metadata": {},
     "output_type": "execute_result"
    }
   ],
   "source": [
    "(random_portfolio_weights[0] * log_returns).sum(axis=1).mean()"
   ]
  },
  {
   "cell_type": "code",
   "execution_count": 66,
   "metadata": {},
   "outputs": [],
   "source": [
    "def simulate_portfolios(n_portfolios, log_returns):\n",
    "    \n",
    "    random_portfolio_weights = get_random_portfolio_weights(n_portfolios=n_portfolios, n_assets=6)\n",
    "    PFReturns = np.empty(shape=(n_portfolios, 2))\n",
    "    for i in range(0, n_portfolios):\n",
    "        temp_return = (random_portfolio_weights[i] * log_returns).sum(axis=1)\n",
    "        PFReturns[i,0] = temp_return.mean()\n",
    "        PFReturns[i,1] = temp_return.std()\n",
    "    return PFReturns\n",
    "    # PF_mean = PFReturns.mean()\n",
    "    # PF_std = PFReturns.std()\n",
    "    # return PF_mean, PF_std"
   ]
  },
  {
   "cell_type": "code",
   "execution_count": 68,
   "metadata": {},
   "outputs": [],
   "source": [
    "simulated = simulate_portfolios(n_portfolios=500, log_returns=log_returns)"
   ]
  },
  {
   "cell_type": "code",
   "execution_count": 73,
   "metadata": {},
   "outputs": [
    {
     "data": {
      "text/plain": [
       "<matplotlib.collections.PathCollection at 0x1b472f6d2b0>"
      ]
     },
     "execution_count": 73,
     "metadata": {},
     "output_type": "execute_result"
    },
    {
     "data": {
      "image/png": "[encoded data removed]",
      "text/plain": [
       "<Figure size 640x480 with 1 Axes>"
      ]
     },
     "metadata": {},
     "output_type": "display_data"
    }
   ],
   "source": [
    "sns.scatterplot(x = upper_optimal_PF[:,0], y = upper_optimal_PF[:,1], s = 1)\n",
    "plt.scatter(x = simulated[:,1], y = simulated[:,0])"
   ]
  },
  {
   "cell_type": "code",
   "execution_count": null,
   "metadata": {},
   "outputs": [],
   "source": []
  }
 ],
 "metadata": {
  "kernelspec": {
   "display_name": "Python 3.8.13 ('myenv')",
   "language": "python",
   "name": "python3"
  },
  "language_info": {
   "codemirror_mode": {
    "name": "ipython",
    "version": 3
   },
   "file_extension": ".py",
   "mimetype": "text/x-python",
   "name": "python",
   "nbconvert_exporter": "python",
   "pygments_lexer": "ipython3",
   "version": "3.12.0"
  },
  "orig_nbformat": 4,
  "vscode": {
   "interpreter": {
    "hash": "cd0b020970a8e4924322b4079227d3d7c71de69d1e4316cef92b299ebb57a50b"
   }
  }
 },
 "nbformat": 4,
 "nbformat_minor": 2
}
