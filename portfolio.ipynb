{
 "cells": [
  {
   "cell_type": "code",
   "execution_count": 38,
   "metadata": {},
   "outputs": [],
   "source": [
    "import pandas as pd \n",
    "import numpy as np \n",
    "import yfinance as yf\n",
    "import matplotlib.pyplot as plt \n",
    "import seaborn as sns; sns.set_theme()"
   ]
  },
  {
   "cell_type": "code",
   "execution_count": 46,
   "metadata": {},
   "outputs": [],
   "source": [
    "def get_logarithmic_returns(tickers: list, start: str, end: str)-> pd.DataFrame:\n",
    "    data = yf.download(tickers=tickers, start=start, end=end)\n",
    "    data = data[\"Adj Close\"]\n",
    "    data = pd.DataFrame(np.diff(np.log(data[1:]), axis=0) * 100, columns=data.columns)\n",
    "    data = data.dropna(axis=0)\n",
    "    return data"
   ]
  },
  {
   "cell_type": "code",
   "execution_count": 50,
   "metadata": {},
   "outputs": [
    {
     "name": "stderr",
     "output_type": "stream",
     "text": [
      "[*********************100%%**********************]  6 of 6 completed\n"
     ]
    }
   ],
   "source": [
    "returns = get_logarithmic_returns(tickers=[\"AAPL\", \"GOOG\", \"BAS.DE\", \"BMW.DE\", \"RWE.DE\", \"DBK.DE\"], start = \"2010-01-01\", end = \"2018-12-31\")"
   ]
  },
  {
   "cell_type": "markdown",
   "metadata": {},
   "source": [
    "Simulate random Portfolio"
   ]
  },
  {
   "cell_type": "code",
   "execution_count": 51,
   "metadata": {},
   "outputs": [],
   "source": [
    "cov = np.cov(returns, rowvar=False)\n",
    "returns = np.random.multivariate_normal([0, 0, 0, 0, 0, 0], cov, size=1000)\n"
   ]
  },
  {
   "cell_type": "code",
   "execution_count": 16,
   "metadata": {},
   "outputs": [],
   "source": [
    "# from data"
   ]
  },
  {
   "cell_type": "code",
   "execution_count": 17,
   "metadata": {},
   "outputs": [
    {
     "data": {
      "text/plain": [
       "(2134, 6)"
      ]
     },
     "execution_count": 17,
     "metadata": {},
     "output_type": "execute_result"
    }
   ],
   "source": [
    "returns.shape"
   ]
  },
  {
   "cell_type": "code",
   "execution_count": 18,
   "metadata": {},
   "outputs": [
    {
     "data": {
      "text/plain": [
       "array([[-1.60340277,  0.63194166,  1.53562748, -1.05119721, -2.55319372,\n",
       "        -0.18989592],\n",
       "       [-0.18504681, -0.66590326,  0.87997633,  0.44908356, -2.355474  ,\n",
       "        -0.42493809],\n",
       "       [ 0.66262174, -0.30620908, -1.3535186 ,  3.57830857,  1.32430346,\n",
       "        -0.14694311],\n",
       "       ...,\n",
       "       [-2.55584024, -0.9825957 , -2.21634933, -7.29849413, -1.33833126,\n",
       "        -0.857708  ],\n",
       "       [-3.96723516,  1.61038603,  0.12521624,  0.59820995, -3.00382036,\n",
       "        -0.31372192],\n",
       "       [ 0.05123036,  1.21597312,  1.19524234,  3.1642168 , -0.65354941,\n",
       "         2.53653565]])"
      ]
     },
     "execution_count": 18,
     "metadata": {},
     "output_type": "execute_result"
    }
   ],
   "source": [
    "data.to_numpy()"
   ]
  },
  {
   "cell_type": "code",
   "execution_count": 19,
   "metadata": {},
   "outputs": [],
   "source": [
    "# create random portfolio weights\n",
    "PF_weights = np.random.rand(500,6)\n",
    "PF_weights = PF_weights/PF_weights.sum(axis=1, keepdims=True)"
   ]
  },
  {
   "cell_type": "code",
   "execution_count": 20,
   "metadata": {},
   "outputs": [],
   "source": [
    "# calculate PF Returns"
   ]
  },
  {
   "cell_type": "code",
   "execution_count": 21,
   "metadata": {},
   "outputs": [],
   "source": [
    "temp_returns = PF_weights[0] * returns"
   ]
  },
  {
   "cell_type": "code",
   "execution_count": 22,
   "metadata": {},
   "outputs": [],
   "source": [
    "temp_returns_overall = temp_returns.sum(axis=1)"
   ]
  },
  {
   "cell_type": "code",
   "execution_count": 23,
   "metadata": {},
   "outputs": [
    {
     "data": {
      "text/plain": [
       "array([-0.58169686, -0.46141947,  0.43074722, ..., -2.02800819,\n",
       "       -0.99019592,  1.25914946])"
      ]
     },
     "execution_count": 23,
     "metadata": {},
     "output_type": "execute_result"
    }
   ],
   "source": [
    "temp_returns_overall"
   ]
  },
  {
   "cell_type": "code",
   "execution_count": 24,
   "metadata": {},
   "outputs": [
    {
     "data": {
      "text/plain": [
       "np.float64(1.2536860545855546)"
      ]
     },
     "execution_count": 24,
     "metadata": {},
     "output_type": "execute_result"
    }
   ],
   "source": [
    "temp_returns_overall.std()"
   ]
  },
  {
   "cell_type": "code",
   "execution_count": 25,
   "metadata": {},
   "outputs": [],
   "source": [
    "def calculate_pf_returns(PF_weight, returns):\n",
    "    temp_returns_overall2 = (PF_weight * returns).sum(axis=1)\n",
    "    temp_mean = temp_returns_overall2.mean()\n",
    "    temp_std = temp_returns_overall2.std()\n",
    "    return temp_mean, temp_std\n"
   ]
  },
  {
   "cell_type": "code",
   "execution_count": 26,
   "metadata": {},
   "outputs": [
    {
     "data": {
      "text/plain": [
       "(np.float64(0.008300054361417753), np.float64(1.2536860545855546))"
      ]
     },
     "execution_count": 26,
     "metadata": {},
     "output_type": "execute_result"
    }
   ],
   "source": [
    "calculate_pf_returns(PF_weight=PF_weights[0], returns=returns)"
   ]
  },
  {
   "cell_type": "code",
   "execution_count": 27,
   "metadata": {},
   "outputs": [],
   "source": [
    "simulated_mu_sigma = np.empty((500,2))\n",
    "for i in range(0, len(PF_weights)):\n",
    "    simulated_mu_sigma[i] = calculate_pf_returns(PF_weight=PF_weights[i], returns=returns)"
   ]
  },
  {
   "cell_type": "code",
   "execution_count": 28,
   "metadata": {},
   "outputs": [
    {
     "data": {
      "text/plain": [
       "array([[ 8.30005436e-03,  1.25368605e+00],\n",
       "       [ 1.67997905e-02,  1.21391066e+00],\n",
       "       [ 9.24532476e-04,  1.42007614e+00],\n",
       "       [ 1.63794210e-02,  1.27757216e+00],\n",
       "       [-7.25651770e-04,  1.29514624e+00],\n",
       "       [ 1.12576828e-02,  1.22156540e+00],\n",
       "       [ 1.44399422e-02,  1.25991158e+00],\n",
       "       [-4.46913862e-03,  1.39605894e+00],\n",
       "       [ 5.87254550e-03,  1.26856345e+00],\n",
       "       [ 2.77365643e-02,  1.22438115e+00],\n",
       "       [ 2.03794376e-02,  1.20700458e+00],\n",
       "       [-7.59859963e-03,  1.39283428e+00],\n",
       "       [ 1.30015799e-02,  1.28876750e+00],\n",
       "       [ 1.56254809e-02,  1.19638697e+00],\n",
       "       [ 4.43096967e-03,  1.28705768e+00],\n",
       "       [ 1.18456318e-02,  1.24108110e+00],\n",
       "       [ 8.29609670e-03,  1.31821998e+00],\n",
       "       [-5.71125748e-03,  1.35221199e+00],\n",
       "       [ 5.08394960e-03,  1.25562839e+00],\n",
       "       [-6.37607350e-03,  1.40045113e+00],\n",
       "       [ 2.55869288e-02,  1.20007777e+00],\n",
       "       [ 1.00685381e-03,  1.43449838e+00],\n",
       "       [ 2.47508276e-02,  1.25698403e+00],\n",
       "       [-3.45974682e-03,  1.37384119e+00],\n",
       "       [ 1.86941129e-02,  1.29660174e+00],\n",
       "       [ 1.58002950e-03,  1.34169356e+00],\n",
       "       [-5.52365578e-04,  1.33909610e+00],\n",
       "       [ 1.46095323e-02,  1.31850893e+00],\n",
       "       [ 9.30282691e-03,  1.26808008e+00],\n",
       "       [ 1.24893406e-02,  1.32704857e+00],\n",
       "       [ 1.04463065e-03,  1.35305670e+00],\n",
       "       [ 6.70052599e-03,  1.36969415e+00],\n",
       "       [ 2.80944801e-03,  1.40991986e+00],\n",
       "       [ 1.97211396e-02,  1.23626449e+00],\n",
       "       [ 1.25566905e-02,  1.24848609e+00],\n",
       "       [ 1.85348371e-02,  1.18455869e+00],\n",
       "       [ 1.24135066e-02,  1.30271149e+00],\n",
       "       [-9.78807588e-03,  1.47014271e+00],\n",
       "       [ 1.00067164e-02,  1.24549658e+00],\n",
       "       [ 2.11702097e-02,  1.21768877e+00],\n",
       "       [ 1.92755854e-02,  1.20176262e+00],\n",
       "       [ 9.11888341e-03,  1.28646115e+00],\n",
       "       [ 2.38358413e-02,  1.19378584e+00],\n",
       "       [ 1.27054909e-02,  1.27615056e+00],\n",
       "       [-2.40976136e-03,  1.41736235e+00],\n",
       "       [ 5.83391374e-03,  1.29143755e+00],\n",
       "       [ 3.42184720e-02,  1.22495725e+00],\n",
       "       [-1.06106285e-02,  1.40463254e+00],\n",
       "       [-1.61227565e-03,  1.33741747e+00],\n",
       "       [ 8.33767547e-03,  1.31058650e+00],\n",
       "       [-7.11071410e-03,  1.45687660e+00],\n",
       "       [-3.09525722e-04,  1.49423227e+00],\n",
       "       [ 4.54575168e-03,  1.27200006e+00],\n",
       "       [ 3.79722090e-03,  1.30509004e+00],\n",
       "       [ 1.19484190e-02,  1.31408049e+00],\n",
       "       [ 1.01316504e-02,  1.32440568e+00],\n",
       "       [ 8.90432897e-04,  1.30870751e+00],\n",
       "       [ 1.09033802e-02,  1.31734864e+00],\n",
       "       [ 7.41107538e-03,  1.25205783e+00],\n",
       "       [ 2.51441187e-02,  1.28094738e+00],\n",
       "       [ 3.25279348e-02,  1.21661631e+00],\n",
       "       [ 2.13397305e-02,  1.18047830e+00],\n",
       "       [ 1.07121981e-02,  1.29907465e+00],\n",
       "       [ 6.90442148e-03,  1.27960471e+00],\n",
       "       [ 5.12362220e-03,  1.30309486e+00],\n",
       "       [-7.09827277e-03,  1.45194379e+00],\n",
       "       [ 1.63023454e-03,  1.28329586e+00],\n",
       "       [ 6.57798232e-03,  1.26160649e+00],\n",
       "       [ 2.52935631e-02,  1.18881252e+00],\n",
       "       [ 2.88921347e-02,  1.22622303e+00],\n",
       "       [ 2.96846260e-03,  1.35432060e+00],\n",
       "       [ 8.43736850e-03,  1.32748226e+00],\n",
       "       [ 5.25814595e-03,  1.32688300e+00],\n",
       "       [ 1.66641561e-02,  1.23579728e+00],\n",
       "       [ 3.89180247e-03,  1.33753716e+00],\n",
       "       [ 8.62508344e-03,  1.28813323e+00],\n",
       "       [-3.92755100e-03,  1.38987510e+00],\n",
       "       [ 6.62835975e-03,  1.31438659e+00],\n",
       "       [ 3.15485183e-04,  1.30169780e+00],\n",
       "       [ 1.73795373e-02,  1.25604121e+00],\n",
       "       [ 1.72601605e-02,  1.19243527e+00],\n",
       "       [ 1.86246874e-02,  1.20266204e+00],\n",
       "       [ 3.22410718e-03,  1.33764531e+00],\n",
       "       [-1.03301323e-02,  1.47701670e+00],\n",
       "       [ 1.62968993e-02,  1.30389603e+00],\n",
       "       [ 1.01780153e-02,  1.23899646e+00],\n",
       "       [ 2.46230493e-02,  1.17064793e+00],\n",
       "       [-1.16691217e-02,  1.43012184e+00],\n",
       "       [-1.97081757e-03,  1.39299202e+00],\n",
       "       [ 6.94113148e-03,  1.24332109e+00],\n",
       "       [ 6.30998937e-03,  1.32348797e+00],\n",
       "       [ 3.15018118e-02,  1.19527547e+00],\n",
       "       [ 2.35654734e-02,  1.20334152e+00],\n",
       "       [-3.49798957e-03,  1.37231262e+00],\n",
       "       [-4.24768577e-03,  1.33177616e+00],\n",
       "       [ 6.63155633e-03,  1.38859600e+00],\n",
       "       [-9.20364521e-03,  1.38948827e+00],\n",
       "       [ 1.31715395e-02,  1.23919236e+00],\n",
       "       [ 1.56475872e-03,  1.34990666e+00],\n",
       "       [ 2.23019066e-02,  1.20549377e+00],\n",
       "       [ 2.27997828e-02,  1.27762522e+00],\n",
       "       [ 1.08306384e-02,  1.33266411e+00],\n",
       "       [ 2.46708742e-03,  1.35364165e+00],\n",
       "       [ 1.11430992e-02,  1.22476391e+00],\n",
       "       [ 2.31035353e-02,  1.24749984e+00],\n",
       "       [ 2.66633857e-03,  1.32267863e+00],\n",
       "       [ 1.78883266e-02,  1.25576536e+00],\n",
       "       [ 7.03001832e-03,  1.30292340e+00],\n",
       "       [ 6.36352691e-03,  1.40934507e+00],\n",
       "       [ 3.46343895e-02,  1.17005231e+00],\n",
       "       [-3.58281484e-03,  1.57052430e+00],\n",
       "       [ 4.08753815e-02,  1.21772835e+00],\n",
       "       [ 1.26844460e-02,  1.25983944e+00],\n",
       "       [ 8.90021524e-03,  1.28460043e+00],\n",
       "       [-4.31950103e-03,  1.44135412e+00],\n",
       "       [-1.18639855e-03,  1.31615089e+00],\n",
       "       [ 2.33565237e-03,  1.33032684e+00],\n",
       "       [ 1.88214596e-02,  1.33293816e+00],\n",
       "       [ 1.83527297e-02,  1.26799560e+00],\n",
       "       [ 1.06855428e-02,  1.33226329e+00],\n",
       "       [ 4.24912405e-03,  1.39322979e+00],\n",
       "       [ 1.35825055e-02,  1.24629192e+00],\n",
       "       [ 1.81053106e-02,  1.31735818e+00],\n",
       "       [ 1.25498495e-02,  1.25541706e+00],\n",
       "       [ 1.76759717e-02,  1.25890258e+00],\n",
       "       [ 1.40025650e-02,  1.22647068e+00],\n",
       "       [-9.22083529e-04,  1.35278854e+00],\n",
       "       [ 1.81054263e-02,  1.37201760e+00],\n",
       "       [-1.78456766e-02,  1.49025403e+00],\n",
       "       [-1.00481820e-02,  1.43785938e+00],\n",
       "       [-7.55530920e-03,  1.47500058e+00],\n",
       "       [ 8.24318914e-03,  1.38110673e+00],\n",
       "       [-3.18178616e-03,  1.34642202e+00],\n",
       "       [ 1.22970711e-02,  1.43160093e+00],\n",
       "       [-9.16089021e-03,  1.41118677e+00],\n",
       "       [-8.02288626e-03,  1.46400110e+00],\n",
       "       [ 1.37545918e-02,  1.26479010e+00],\n",
       "       [ 2.07486100e-02,  1.20006615e+00],\n",
       "       [ 1.68043687e-02,  1.25811112e+00],\n",
       "       [-1.48860180e-02,  1.41777697e+00],\n",
       "       [ 3.64579738e-04,  1.41946822e+00],\n",
       "       [ 1.69257153e-02,  1.21590352e+00],\n",
       "       [ 1.45422367e-02,  1.34053459e+00],\n",
       "       [ 1.54800231e-02,  1.41794899e+00],\n",
       "       [ 2.04443583e-02,  1.23446302e+00],\n",
       "       [ 9.86531681e-03,  1.27258460e+00],\n",
       "       [ 2.46529635e-02,  1.21789823e+00],\n",
       "       [ 1.95851102e-03,  1.32807402e+00],\n",
       "       [ 8.67450860e-03,  1.31253877e+00],\n",
       "       [-2.19641019e-03,  1.36206025e+00],\n",
       "       [ 2.94079225e-02,  1.23811691e+00],\n",
       "       [ 1.31344850e-03,  1.32254483e+00],\n",
       "       [ 4.33062895e-03,  1.28198708e+00],\n",
       "       [ 3.50155099e-03,  1.46318264e+00],\n",
       "       [ 1.65469862e-03,  1.31021797e+00],\n",
       "       [ 1.67427051e-02,  1.24426963e+00],\n",
       "       [ 8.10485062e-03,  1.25164861e+00],\n",
       "       [ 1.60505968e-02,  1.25971855e+00],\n",
       "       [ 9.22844171e-03,  1.31268710e+00],\n",
       "       [ 8.13897169e-03,  1.32040499e+00],\n",
       "       [ 3.75565776e-02,  1.20181517e+00],\n",
       "       [ 9.25956091e-03,  1.26980594e+00],\n",
       "       [ 3.93112317e-03,  1.31514658e+00],\n",
       "       [-9.32473451e-03,  1.38379489e+00],\n",
       "       [ 9.48728486e-03,  1.24803307e+00],\n",
       "       [ 2.97551826e-02,  1.18665491e+00],\n",
       "       [-8.42076749e-03,  1.42383064e+00],\n",
       "       [ 1.71458778e-02,  1.22662817e+00],\n",
       "       [-5.70909218e-03,  1.39278776e+00],\n",
       "       [ 6.94897033e-03,  1.29664721e+00],\n",
       "       [ 1.16751001e-02,  1.40929643e+00],\n",
       "       [ 4.10421713e-03,  1.32965670e+00],\n",
       "       [-6.42433142e-03,  1.49133014e+00],\n",
       "       [-3.68228228e-03,  1.43444119e+00],\n",
       "       [ 4.80296502e-03,  1.34684067e+00],\n",
       "       [ 1.24833300e-02,  1.30359245e+00],\n",
       "       [ 8.93199489e-03,  1.28587480e+00],\n",
       "       [-7.81598064e-05,  1.35713660e+00],\n",
       "       [ 2.23049027e-02,  1.23530692e+00],\n",
       "       [ 1.36631908e-02,  1.23435736e+00],\n",
       "       [ 2.62453302e-03,  1.30077507e+00],\n",
       "       [ 1.67234560e-02,  1.21500119e+00],\n",
       "       [ 3.19325749e-02,  1.17929513e+00],\n",
       "       [ 2.38387109e-02,  1.22303990e+00],\n",
       "       [ 3.83494325e-03,  1.34305990e+00],\n",
       "       [ 2.54127526e-02,  1.22640778e+00],\n",
       "       [ 2.24330707e-02,  1.22181285e+00],\n",
       "       [ 1.03584205e-02,  1.23639338e+00],\n",
       "       [ 2.87032901e-02,  1.26003381e+00],\n",
       "       [ 4.37899447e-03,  1.29432042e+00],\n",
       "       [ 2.55923643e-02,  1.26862705e+00],\n",
       "       [ 9.74204754e-03,  1.26769790e+00],\n",
       "       [ 3.31629534e-02,  1.15988305e+00],\n",
       "       [-6.87660582e-03,  1.49017959e+00],\n",
       "       [ 1.42897165e-02,  1.31423397e+00],\n",
       "       [-7.40813888e-03,  1.38555057e+00],\n",
       "       [ 3.65510395e-02,  1.33733268e+00],\n",
       "       [ 2.80419734e-03,  1.33569698e+00],\n",
       "       [ 1.36685922e-02,  1.33428869e+00],\n",
       "       [ 8.39028903e-03,  1.40051735e+00],\n",
       "       [-8.06074388e-04,  1.33882295e+00],\n",
       "       [ 1.11723193e-02,  1.27799939e+00],\n",
       "       [-1.47777590e-02,  1.41270956e+00],\n",
       "       [ 1.48728910e-02,  1.30487693e+00],\n",
       "       [ 6.55337560e-04,  1.33869254e+00],\n",
       "       [ 2.07545136e-02,  1.28904395e+00],\n",
       "       [ 4.63904918e-03,  1.34721574e+00],\n",
       "       [ 2.50628010e-02,  1.23875705e+00],\n",
       "       [-6.56677335e-03,  1.48875400e+00],\n",
       "       [-1.92870643e-02,  1.48773648e+00],\n",
       "       [-9.82488838e-03,  1.42714686e+00],\n",
       "       [ 2.14425518e-02,  1.24450228e+00],\n",
       "       [ 1.99658524e-02,  1.26149025e+00],\n",
       "       [ 1.48334240e-02,  1.21816122e+00],\n",
       "       [ 2.73768071e-03,  1.31627837e+00],\n",
       "       [ 1.01505496e-02,  1.31673725e+00],\n",
       "       [ 5.48016543e-03,  1.27786339e+00],\n",
       "       [ 3.53813449e-02,  1.16804217e+00],\n",
       "       [-1.55749044e-02,  1.45625544e+00],\n",
       "       [ 7.06017327e-03,  1.24031733e+00],\n",
       "       [-5.98965051e-03,  1.45640620e+00],\n",
       "       [ 1.88910861e-03,  1.31953082e+00],\n",
       "       [-6.55785349e-04,  1.32929744e+00],\n",
       "       [ 1.83716830e-02,  1.19509201e+00],\n",
       "       [ 2.18129323e-02,  1.19347821e+00],\n",
       "       [ 3.08045979e-02,  1.37646772e+00],\n",
       "       [ 2.00585839e-02,  1.25333935e+00],\n",
       "       [ 1.23038097e-02,  1.35802620e+00],\n",
       "       [ 1.55221814e-02,  1.23832112e+00],\n",
       "       [ 1.16596108e-02,  1.27339621e+00],\n",
       "       [ 1.09102496e-02,  1.29895926e+00],\n",
       "       [-8.91100076e-03,  1.38724115e+00],\n",
       "       [-1.96075616e-03,  1.34914639e+00],\n",
       "       [-7.74610856e-03,  1.39249754e+00],\n",
       "       [-9.04424711e-03,  1.41863861e+00],\n",
       "       [ 3.56724601e-02,  1.26516473e+00],\n",
       "       [-3.00073614e-02,  1.57510859e+00],\n",
       "       [ 5.12570221e-03,  1.25205995e+00],\n",
       "       [-1.24002385e-03,  1.43220411e+00],\n",
       "       [ 1.87469526e-02,  1.24897646e+00],\n",
       "       [-1.63510128e-02,  1.46616777e+00],\n",
       "       [ 9.59293942e-03,  1.27275803e+00],\n",
       "       [ 2.52108232e-02,  1.19561411e+00],\n",
       "       [ 1.44223690e-02,  1.21763321e+00],\n",
       "       [-6.75588046e-03,  1.41269094e+00],\n",
       "       [ 2.55250503e-02,  1.32078273e+00],\n",
       "       [ 3.54616194e-03,  1.41114660e+00],\n",
       "       [ 2.56046994e-02,  1.18987252e+00],\n",
       "       [ 2.60259853e-02,  1.25109458e+00],\n",
       "       [-2.77531789e-03,  1.39923608e+00],\n",
       "       [ 3.73495402e-03,  1.28446521e+00],\n",
       "       [ 1.59205127e-02,  1.35017247e+00],\n",
       "       [ 1.13628905e-02,  1.22353647e+00],\n",
       "       [ 1.55975786e-02,  1.27065387e+00],\n",
       "       [ 1.41747963e-02,  1.24503086e+00],\n",
       "       [-2.84102281e-03,  1.46200483e+00],\n",
       "       [ 3.83766306e-03,  1.32225315e+00],\n",
       "       [ 2.06995199e-02,  1.19675360e+00],\n",
       "       [ 1.24150745e-02,  1.24860581e+00],\n",
       "       [ 8.62851276e-04,  1.33629564e+00],\n",
       "       [ 8.30965121e-03,  1.30603909e+00],\n",
       "       [ 1.00905283e-02,  1.28176854e+00],\n",
       "       [ 2.65332252e-02,  1.26037954e+00],\n",
       "       [-7.61966935e-03,  1.36012784e+00],\n",
       "       [ 3.22704126e-03,  1.36225183e+00],\n",
       "       [ 2.21676456e-02,  1.20450647e+00],\n",
       "       [ 2.71760755e-03,  1.34169513e+00],\n",
       "       [ 2.19353296e-02,  1.25907431e+00],\n",
       "       [ 1.93037090e-02,  1.36537309e+00],\n",
       "       [ 1.75317442e-02,  1.31156881e+00],\n",
       "       [-9.35587278e-03,  1.39426480e+00],\n",
       "       [ 7.14253675e-03,  1.28573430e+00],\n",
       "       [ 5.26274185e-03,  1.32449586e+00],\n",
       "       [-3.88071681e-03,  1.38227303e+00],\n",
       "       [ 2.98725268e-02,  1.22227953e+00],\n",
       "       [ 8.25568763e-03,  1.28407299e+00],\n",
       "       [ 2.58756891e-03,  1.40537402e+00],\n",
       "       [ 1.98992780e-02,  1.21643898e+00],\n",
       "       [-9.60654009e-03,  1.42497196e+00],\n",
       "       [ 1.43811013e-02,  1.22610840e+00],\n",
       "       [ 2.00009473e-02,  1.21102827e+00],\n",
       "       [ 1.50236245e-02,  1.23669172e+00],\n",
       "       [-8.06689527e-04,  1.37907983e+00],\n",
       "       [ 8.51939551e-03,  1.32527347e+00],\n",
       "       [ 1.46895444e-03,  1.36097037e+00],\n",
       "       [ 5.07635061e-03,  1.38735323e+00],\n",
       "       [ 1.19834214e-02,  1.37997022e+00],\n",
       "       [ 6.05763999e-03,  1.33749330e+00],\n",
       "       [-8.32904397e-03,  1.34466806e+00],\n",
       "       [-2.20455757e-03,  1.43555792e+00],\n",
       "       [-1.17470106e-02,  1.43477926e+00],\n",
       "       [-7.70161186e-03,  1.40985176e+00],\n",
       "       [ 2.26199614e-02,  1.26448012e+00],\n",
       "       [-2.74248120e-03,  1.34841825e+00],\n",
       "       [ 1.71228736e-02,  1.21543415e+00],\n",
       "       [ 4.08313747e-04,  1.46712729e+00],\n",
       "       [ 2.24867509e-02,  1.19052966e+00],\n",
       "       [ 1.16077520e-02,  1.26893436e+00],\n",
       "       [-3.01341391e-03,  1.38383636e+00],\n",
       "       [ 8.09523985e-03,  1.26935456e+00],\n",
       "       [-1.11970066e-02,  1.38011164e+00],\n",
       "       [ 2.48325325e-02,  1.21794573e+00],\n",
       "       [-8.87478062e-03,  1.38708293e+00],\n",
       "       [-1.23915186e-02,  1.42429330e+00],\n",
       "       [ 2.49948889e-03,  1.29521985e+00],\n",
       "       [ 4.45043583e-03,  1.35501061e+00],\n",
       "       [-1.36028379e-03,  1.34089292e+00],\n",
       "       [-1.75468082e-02,  1.49346112e+00],\n",
       "       [-6.34277052e-03,  1.44170737e+00],\n",
       "       [ 1.60487864e-02,  1.23279970e+00],\n",
       "       [ 8.54967274e-03,  1.27980892e+00],\n",
       "       [-1.29874669e-02,  1.54554863e+00],\n",
       "       [ 8.77405625e-03,  1.29459506e+00],\n",
       "       [-2.50835635e-03,  1.41322123e+00],\n",
       "       [ 2.07553049e-02,  1.22621772e+00],\n",
       "       [ 1.71400834e-02,  1.22465222e+00],\n",
       "       [-5.84137759e-03,  1.37892886e+00],\n",
       "       [ 2.22222078e-03,  1.30982526e+00],\n",
       "       [ 9.82589011e-03,  1.30946702e+00],\n",
       "       [ 3.09600077e-03,  1.32885170e+00],\n",
       "       [ 2.97171687e-03,  1.30025540e+00],\n",
       "       [ 2.30563051e-03,  1.32314964e+00],\n",
       "       [-4.16029648e-03,  1.31375790e+00],\n",
       "       [-1.31509515e-02,  1.42013948e+00],\n",
       "       [-1.05912886e-02,  1.42384217e+00],\n",
       "       [ 6.01197578e-03,  1.28508917e+00],\n",
       "       [ 1.01884195e-02,  1.33676423e+00],\n",
       "       [ 2.18859356e-03,  1.31761881e+00],\n",
       "       [ 1.47969044e-02,  1.26710811e+00],\n",
       "       [ 9.12976861e-04,  1.28877112e+00],\n",
       "       [ 8.85768031e-03,  1.28374198e+00],\n",
       "       [ 3.98128183e-03,  1.32259481e+00],\n",
       "       [ 2.36088425e-04,  1.31088311e+00],\n",
       "       [ 1.09373048e-02,  1.24160287e+00],\n",
       "       [ 1.76849362e-02,  1.27624649e+00],\n",
       "       [-5.65492385e-03,  1.43341019e+00],\n",
       "       [ 1.11752519e-02,  1.28362420e+00],\n",
       "       [-6.46499240e-03,  1.41753988e+00],\n",
       "       [ 9.91777211e-03,  1.25145527e+00],\n",
       "       [ 1.74738420e-02,  1.24479510e+00],\n",
       "       [ 2.16272547e-02,  1.21385729e+00],\n",
       "       [-1.60676626e-02,  1.46528947e+00],\n",
       "       [ 2.07852111e-02,  1.29058803e+00],\n",
       "       [ 2.35202123e-02,  1.20266534e+00],\n",
       "       [-1.15437863e-03,  1.37739738e+00],\n",
       "       [ 4.83135107e-03,  1.26089358e+00],\n",
       "       [-1.14473246e-02,  1.44824395e+00],\n",
       "       [ 3.75157980e-03,  1.28427129e+00],\n",
       "       [ 6.88610745e-03,  1.29019185e+00],\n",
       "       [-5.59164741e-03,  1.47074871e+00],\n",
       "       [-1.89110303e-02,  1.44765703e+00],\n",
       "       [ 6.75509580e-03,  1.40021969e+00],\n",
       "       [ 7.05519418e-03,  1.41115539e+00],\n",
       "       [ 4.37382549e-03,  1.35825448e+00],\n",
       "       [ 1.48735051e-02,  1.28149444e+00],\n",
       "       [ 2.83066292e-02,  1.25882862e+00],\n",
       "       [ 1.67259607e-02,  1.21104948e+00],\n",
       "       [ 1.09241705e-02,  1.31617934e+00],\n",
       "       [ 8.34670417e-03,  1.25221228e+00],\n",
       "       [ 2.12183831e-02,  1.19283539e+00],\n",
       "       [ 7.20687062e-03,  1.27520731e+00],\n",
       "       [ 2.20758875e-02,  1.26867532e+00],\n",
       "       [ 5.47885096e-03,  1.29313166e+00],\n",
       "       [ 3.30283294e-02,  1.17987090e+00],\n",
       "       [ 3.40243087e-03,  1.26449842e+00],\n",
       "       [ 1.63937971e-02,  1.22772217e+00],\n",
       "       [ 3.46290852e-03,  1.32677484e+00],\n",
       "       [-2.08170673e-02,  1.49257853e+00],\n",
       "       [ 2.65321477e-02,  1.22944211e+00],\n",
       "       [ 4.77881904e-03,  1.37569818e+00],\n",
       "       [-4.77768780e-03,  1.39119721e+00],\n",
       "       [ 1.66293864e-02,  1.25585876e+00],\n",
       "       [-1.95604527e-02,  1.51952125e+00],\n",
       "       [ 2.32055032e-02,  1.17503629e+00],\n",
       "       [ 2.38388360e-02,  1.23482349e+00],\n",
       "       [ 2.11109299e-02,  1.19505545e+00],\n",
       "       [ 1.14848754e-02,  1.34612942e+00],\n",
       "       [ 2.90065404e-04,  1.33331548e+00],\n",
       "       [ 1.63207263e-02,  1.22500286e+00],\n",
       "       [ 1.19322307e-02,  1.24486173e+00],\n",
       "       [ 9.33554083e-03,  1.27761227e+00],\n",
       "       [ 4.19109482e-03,  1.35654961e+00],\n",
       "       [ 6.07954362e-03,  1.34834396e+00],\n",
       "       [-6.40726537e-03,  1.35176575e+00],\n",
       "       [ 5.98020346e-04,  1.33613600e+00],\n",
       "       [-4.69444169e-03,  1.38884249e+00],\n",
       "       [-4.23981400e-03,  1.43953662e+00],\n",
       "       [ 1.91223628e-02,  1.26923338e+00],\n",
       "       [ 1.51485089e-03,  1.36174672e+00],\n",
       "       [ 3.15726320e-03,  1.30039869e+00],\n",
       "       [-6.21035820e-03,  1.34288949e+00],\n",
       "       [ 1.65655287e-02,  1.35749879e+00],\n",
       "       [ 3.37560793e-02,  1.21403957e+00],\n",
       "       [ 2.43198187e-02,  1.21336815e+00],\n",
       "       [ 1.56465597e-02,  1.27035086e+00],\n",
       "       [-2.11588439e-02,  1.48340926e+00],\n",
       "       [ 3.03953266e-02,  1.23318598e+00],\n",
       "       [ 1.24321715e-02,  1.23721027e+00],\n",
       "       [ 4.33283516e-03,  1.44357560e+00],\n",
       "       [ 2.53534330e-03,  1.31426297e+00],\n",
       "       [ 1.56220115e-02,  1.24390820e+00],\n",
       "       [ 1.37883022e-03,  1.32865433e+00],\n",
       "       [ 2.70739612e-02,  1.17455143e+00],\n",
       "       [-1.12587528e-02,  1.42939207e+00],\n",
       "       [ 3.24724152e-03,  1.34556263e+00],\n",
       "       [ 3.95042876e-03,  1.29530264e+00],\n",
       "       [ 2.27026345e-02,  1.18411029e+00],\n",
       "       [-5.49320060e-03,  1.37049304e+00],\n",
       "       [ 1.25570024e-02,  1.33582035e+00],\n",
       "       [ 1.52533441e-02,  1.22206253e+00],\n",
       "       [ 4.46888398e-03,  1.33525943e+00],\n",
       "       [-1.21585704e-02,  1.39762689e+00],\n",
       "       [-6.71069782e-03,  1.45358612e+00],\n",
       "       [ 1.13018266e-03,  1.28155469e+00],\n",
       "       [ 1.16425705e-03,  1.36826516e+00],\n",
       "       [ 2.60543938e-03,  1.27903544e+00],\n",
       "       [ 1.31248899e-02,  1.27300207e+00],\n",
       "       [ 2.00778965e-02,  1.27513332e+00],\n",
       "       [ 3.81552458e-02,  1.23349136e+00],\n",
       "       [-4.34726819e-03,  1.35348507e+00],\n",
       "       [ 2.15386422e-03,  1.41798141e+00],\n",
       "       [ 2.65201720e-02,  1.21498700e+00],\n",
       "       [ 1.15911982e-02,  1.26734209e+00],\n",
       "       [ 1.06503486e-02,  1.24455003e+00],\n",
       "       [-5.31198173e-03,  1.37942061e+00],\n",
       "       [-1.80732518e-04,  1.30434448e+00],\n",
       "       [-8.92238060e-03,  1.49393176e+00],\n",
       "       [ 2.44008461e-02,  1.19242680e+00],\n",
       "       [ 9.90086968e-03,  1.27080603e+00],\n",
       "       [ 1.73316579e-02,  1.40865907e+00],\n",
       "       [-3.08477642e-03,  1.38450784e+00],\n",
       "       [ 1.78765838e-02,  1.25205281e+00],\n",
       "       [ 1.32324719e-02,  1.29283851e+00],\n",
       "       [ 8.88236617e-03,  1.32748972e+00],\n",
       "       [ 9.08107686e-03,  1.37991136e+00],\n",
       "       [-2.65716764e-03,  1.43103538e+00],\n",
       "       [-4.02474614e-03,  1.32043698e+00],\n",
       "       [ 3.05098743e-02,  1.21385480e+00],\n",
       "       [ 1.76357315e-03,  1.36259624e+00],\n",
       "       [ 1.15721999e-02,  1.25115539e+00],\n",
       "       [ 1.25315611e-02,  1.26897910e+00],\n",
       "       [-5.00532227e-03,  1.41730724e+00],\n",
       "       [ 2.09917409e-02,  1.29145944e+00],\n",
       "       [ 1.72550986e-02,  1.27047428e+00],\n",
       "       [-1.91508458e-03,  1.37632158e+00],\n",
       "       [ 2.74172105e-02,  1.23006444e+00],\n",
       "       [ 2.06803054e-02,  1.23527684e+00],\n",
       "       [-3.15573970e-03,  1.47012710e+00],\n",
       "       [ 6.87684848e-03,  1.39198604e+00],\n",
       "       [ 2.62641945e-03,  1.30809075e+00],\n",
       "       [ 1.08953001e-02,  1.27100197e+00],\n",
       "       [ 3.49039978e-03,  1.29310651e+00],\n",
       "       [-5.95070253e-03,  1.34705250e+00],\n",
       "       [-7.91991032e-03,  1.39736942e+00],\n",
       "       [ 1.58915216e-02,  1.20482418e+00],\n",
       "       [-9.76771662e-03,  1.41189534e+00],\n",
       "       [ 1.95418800e-02,  1.19704157e+00],\n",
       "       [ 1.54957440e-02,  1.36553102e+00],\n",
       "       [ 5.40768878e-03,  1.29921485e+00],\n",
       "       [ 7.70165199e-03,  1.24118818e+00],\n",
       "       [-2.30028557e-03,  1.36313614e+00],\n",
       "       [ 8.54301494e-03,  1.36572280e+00],\n",
       "       [ 1.46132226e-02,  1.22170954e+00],\n",
       "       [ 6.87497294e-03,  1.28388111e+00],\n",
       "       [-4.44474611e-03,  1.33106209e+00],\n",
       "       [ 5.96681225e-03,  1.26586135e+00],\n",
       "       [ 7.02295741e-03,  1.40595821e+00],\n",
       "       [-1.53602561e-02,  1.41667590e+00],\n",
       "       [ 2.88195021e-03,  1.28329014e+00],\n",
       "       [ 2.78993760e-03,  1.34790314e+00],\n",
       "       [ 6.53581423e-03,  1.35775400e+00],\n",
       "       [-5.58585996e-03,  1.46030982e+00],\n",
       "       [ 5.85666280e-03,  1.32884578e+00],\n",
       "       [-3.16761949e-04,  1.31399980e+00],\n",
       "       [ 3.33173401e-03,  1.45110375e+00],\n",
       "       [ 1.53848087e-02,  1.30185937e+00],\n",
       "       [ 5.30384856e-03,  1.36217944e+00],\n",
       "       [ 2.52027733e-03,  1.35278068e+00],\n",
       "       [ 4.79669678e-03,  1.37439949e+00],\n",
       "       [-2.48802982e-04,  1.29318594e+00],\n",
       "       [ 2.68374110e-02,  1.21508524e+00],\n",
       "       [ 1.13799272e-02,  1.24061700e+00],\n",
       "       [-1.10429921e-04,  1.38836264e+00],\n",
       "       [ 1.01698657e-02,  1.31078934e+00],\n",
       "       [ 5.34802222e-03,  1.40749466e+00],\n",
       "       [ 5.97532681e-03,  1.27613989e+00],\n",
       "       [ 1.46600011e-02,  1.20179422e+00],\n",
       "       [ 2.07913482e-02,  1.30889171e+00],\n",
       "       [ 5.22914030e-03,  1.34140297e+00],\n",
       "       [-4.88675878e-03,  1.50245201e+00],\n",
       "       [ 1.91488479e-02,  1.19311558e+00],\n",
       "       [ 2.96344428e-04,  1.37296067e+00],\n",
       "       [ 1.03682282e-02,  1.28485779e+00],\n",
       "       [-1.27098341e-02,  1.44581267e+00],\n",
       "       [ 3.04299566e-03,  1.28486559e+00],\n",
       "       [ 1.47333411e-02,  1.30719456e+00],\n",
       "       [ 2.57176490e-02,  1.21973346e+00],\n",
       "       [ 2.76304326e-02,  1.24892851e+00],\n",
       "       [ 2.37751932e-02,  1.27999322e+00],\n",
       "       [ 1.08821621e-02,  1.25660305e+00]])"
      ]
     },
     "execution_count": 28,
     "metadata": {},
     "output_type": "execute_result"
    }
   ],
   "source": [
    "simulated_mu_sigma"
   ]
  },
  {
   "cell_type": "code",
   "execution_count": 29,
   "metadata": {},
   "outputs": [
    {
     "data": {
      "text/plain": [
       "<matplotlib.collections.PathCollection at 0x18b720976b0>"
      ]
     },
     "execution_count": 29,
     "metadata": {},
     "output_type": "execute_result"
    },
    {
     "data": {
      "image/png": "[encoded data removed]",
      "text/plain": [
       "<Figure size 640x480 with 1 Axes>"
      ]
     },
     "metadata": {},
     "output_type": "display_data"
    }
   ],
   "source": [
    "plt.scatter(x = simulated_mu_sigma[:,1], y = simulated_mu_sigma[:,0])"
   ]
  },
  {
   "cell_type": "code",
   "execution_count": 30,
   "metadata": {},
   "outputs": [
    {
     "data": {
      "text/plain": [
       "(-0.05, 0.05)"
      ]
     },
     "execution_count": 30,
     "metadata": {},
     "output_type": "execute_result"
    },
    {
     "data": {
      "image/png": "[encoded data removed]",
      "text/plain": [
       "<Figure size 640x480 with 1 Axes>"
      ]
     },
     "metadata": {},
     "output_type": "display_data"
    }
   ],
   "source": [
    "sns.scatterplot(x = simulated_mu_sigma[:,1], y = simulated_mu_sigma[:,0], palette='viridis', hue=simulated_mu_sigma[:,0])\n",
    "plt.xlim(1,1.5)\n",
    "plt.ylim(-0.05, 0.05)"
   ]
  },
  {
   "cell_type": "code",
   "execution_count": null,
   "metadata": {},
   "outputs": [],
   "source": []
  }
 ],
 "metadata": {
  "kernelspec": {
   "display_name": "Python 3.8.13 ('myenv')",
   "language": "python",
   "name": "python3"
  },
  "language_info": {
   "codemirror_mode": {
    "name": "ipython",
    "version": 3
   },
   "file_extension": ".py",
   "mimetype": "text/x-python",
   "name": "python",
   "nbconvert_exporter": "python",
   "pygments_lexer": "ipython3",
   "version": "3.12.0"
  },
  "orig_nbformat": 4,
  "vscode": {
   "interpreter": {
    "hash": "cd0b020970a8e4924322b4079227d3d7c71de69d1e4316cef92b299ebb57a50b"
   }
  }
 },
 "nbformat": 4,
 "nbformat_minor": 2
}
