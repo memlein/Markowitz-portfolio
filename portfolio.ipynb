{
 "cells": [
  {
   "cell_type": "code",
   "execution_count": 1,
   "metadata": {},
   "outputs": [],
   "source": [
    "import pandas as pd \n",
    "import numpy as np \n",
    "import yfinance as yf\n",
    "import matplotlib.pyplot as plt \n",
    "import seaborn as sns; sns.set_theme()"
   ]
  },
  {
   "cell_type": "code",
   "execution_count": 2,
   "metadata": {},
   "outputs": [],
   "source": [
    "def get_logarithmic_returns(tickers: list, start: str, end: str)-> pd.DataFrame:\n",
    "    data = yf.download(tickers=tickers, start=start, end=end)\n",
    "    data = data[\"Adj Close\"]\n",
    "    data = pd.DataFrame(np.diff(np.log(data[1:]), axis=0) * 100, columns=data.columns)\n",
    "    data = data.dropna(axis=0)\n",
    "    return data"
   ]
  },
  {
   "cell_type": "code",
   "execution_count": 3,
   "metadata": {},
   "outputs": [
    {
     "name": "stderr",
     "output_type": "stream",
     "text": [
      "[*********************100%%**********************]  6 of 6 completed\n"
     ]
    }
   ],
   "source": [
    "log_returns = get_logarithmic_returns(tickers=[\"AAPL\", \"GOOG\", \"BAS.DE\", \"BMW.DE\", \"RWE.DE\", \"DBK.DE\"], start = \"2010-01-01\", end = \"2018-12-31\")"
   ]
  },
  {
   "cell_type": "markdown",
   "metadata": {},
   "source": [
    "Efficient Frontier"
   ]
  },
  {
   "cell_type": "code",
   "execution_count": 4,
   "metadata": {},
   "outputs": [],
   "source": [
    "mu = np.mean(log_returns, axis=0).to_numpy()"
   ]
  },
  {
   "cell_type": "code",
   "execution_count": 5,
   "metadata": {},
   "outputs": [
    {
     "data": {
      "text/plain": [
       "array([ 0.04970847,  0.00249982, -0.00303979, -0.0939    ,  0.04243715,\n",
       "       -0.02163403])"
      ]
     },
     "execution_count": 5,
     "metadata": {},
     "output_type": "execute_result"
    }
   ],
   "source": [
    "mu"
   ]
  },
  {
   "cell_type": "code",
   "execution_count": 6,
   "metadata": {},
   "outputs": [],
   "source": [
    "cov = np.cov(log_returns, rowvar=False)"
   ]
  },
  {
   "cell_type": "code",
   "execution_count": 7,
   "metadata": {},
   "outputs": [],
   "source": [
    "C1 = np.linalg.inv(cov)"
   ]
  },
  {
   "cell_type": "code",
   "execution_count": 8,
   "metadata": {},
   "outputs": [],
   "source": [
    "a = np.matmul(np.matmul(mu, C1), mu)"
   ]
  },
  {
   "cell_type": "code",
   "execution_count": 9,
   "metadata": {},
   "outputs": [],
   "source": [
    "b = np.matmul(np.ones((1, 6)) ,np.matmul(C1, mu))[0]"
   ]
  },
  {
   "cell_type": "code",
   "execution_count": 10,
   "metadata": {},
   "outputs": [],
   "source": [
    "d = np.matmul(np.ones((1, 6)), np.matmul(C1, np.ones((6,1))))"
   ]
  },
  {
   "cell_type": "code",
   "execution_count": 11,
   "metadata": {},
   "outputs": [],
   "source": [
    "wvarmin = (1/d) * np.matmul(C1, np.ones((6,1)))"
   ]
  },
  {
   "cell_type": "code",
   "execution_count": 12,
   "metadata": {},
   "outputs": [],
   "source": [
    "sigmamin = 1/np.sqrt(d)[0][0]"
   ]
  },
  {
   "cell_type": "code",
   "execution_count": 13,
   "metadata": {},
   "outputs": [],
   "source": [
    "mumin = b/d"
   ]
  },
  {
   "cell_type": "code",
   "execution_count": 14,
   "metadata": {},
   "outputs": [],
   "source": [
    "sigma_p = np.arange(sigmamin, 5, 0.0001)"
   ]
  },
  {
   "cell_type": "code",
   "execution_count": 15,
   "metadata": {},
   "outputs": [
    {
     "data": {
      "text/plain": [
       "(39429,)"
      ]
     },
     "execution_count": 15,
     "metadata": {},
     "output_type": "execute_result"
    }
   ],
   "source": [
    "sigma_p.shape"
   ]
  },
  {
   "cell_type": "code",
   "execution_count": 16,
   "metadata": {},
   "outputs": [],
   "source": [
    "upper_optimal_PF = np.empty(shape=(sigma_p.shape[0],2))\n",
    "upper_optimal_PF[:,0] = sigma_p"
   ]
  },
  {
   "cell_type": "code",
   "execution_count": 17,
   "metadata": {},
   "outputs": [
    {
     "name": "stderr",
     "output_type": "stream",
     "text": [
      "C:\\Users\\morit\\AppData\\Local\\Temp\\ipykernel_4604\\2263337394.py:2: DeprecationWarning: Conversion of an array with ndim > 0 to a scalar is deprecated, and will error in future. Ensure you extract a single element from your array before performing this operation. (Deprecated NumPy 1.25.)\n",
      "  upper_optimal_PF[i,1] = mumin + np.sqrt((np.square(upper_optimal_PF[i,0]) - np.square(sigmamin)) * (a - np.square(mumin)/np.square(sigmamin)))\n"
     ]
    }
   ],
   "source": [
    "for i in range(0,upper_optimal_PF.shape[0]):\n",
    "    upper_optimal_PF[i,1] = mumin + np.sqrt((np.square(upper_optimal_PF[i,0]) - np.square(sigmamin)) * (a - np.square(mumin)/np.square(sigmamin)))"
   ]
  },
  {
   "cell_type": "code",
   "execution_count": 18,
   "metadata": {},
   "outputs": [
    {
     "name": "stderr",
     "output_type": "stream",
     "text": [
      "C:\\Users\\morit\\AppData\\Local\\Temp\\ipykernel_4604\\2517006218.py:4: DeprecationWarning: Conversion of an array with ndim > 0 to a scalar is deprecated, and will error in future. Ensure you extract a single element from your array before performing this operation. (Deprecated NumPy 1.25.)\n",
      "  lower_optimal_PF[i,1] = mumin - np.sqrt((np.square(lower_optimal_PF[i,0]) - np.square(sigmamin)) * (a - np.square(mumin)/np.square(sigmamin)))\n"
     ]
    }
   ],
   "source": [
    "lower_optimal_PF = np.empty(shape=(sigma_p.shape[0],2))\n",
    "lower_optimal_PF[:,0] = sigma_p\n",
    "for i in range(0,lower_optimal_PF.shape[0]):\n",
    "    lower_optimal_PF[i,1] = mumin - np.sqrt((np.square(lower_optimal_PF[i,0]) - np.square(sigmamin)) * (a - np.square(mumin)/np.square(sigmamin)))"
   ]
  },
  {
   "cell_type": "code",
   "execution_count": 24,
   "metadata": {},
   "outputs": [
    {
     "data": {
      "image/png": "[encoded data removed]",
      "text/plain": [
       "<Figure size 640x480 with 1 Axes>"
      ]
     },
     "metadata": {},
     "output_type": "display_data"
    }
   ],
   "source": [
    "plt.scatter(x = lower_optimal_PF[:,0], y = lower_optimal_PF[:,1], s = 1)\n",
    "plt.xlim(0,5)\n",
    "plt.ylim(-0.3,0.3)\n",
    "plt.scatter(x = upper_optimal_PF[:,0], y = upper_optimal_PF[:,1], s = 1)\n",
    "plt.scatter(sigmamin, mumin, color = 'red');"
   ]
  },
  {
   "cell_type": "code",
   "execution_count": 33,
   "metadata": {},
   "outputs": [
    {
     "data": {
      "text/plain": [
       "np.float64(0.0281373530619483)"
      ]
     },
     "execution_count": 33,
     "metadata": {},
     "output_type": "execute_result"
    }
   ],
   "source": [
    "mumin[0][0]"
   ]
  },
  {
   "cell_type": "code",
   "execution_count": 36,
   "metadata": {},
   "outputs": [
    {
     "data": {
      "text/plain": [
       "<matplotlib.collections.PathCollection at 0x1d4a378d070>"
      ]
     },
     "execution_count": 36,
     "metadata": {},
     "output_type": "execute_result"
    },
    {
     "data": {
      "image/png": "[encoded data removed]",
      "text/plain": [
       "<Figure size 640x480 with 1 Axes>"
      ]
     },
     "metadata": {},
     "output_type": "display_data"
    }
   ],
   "source": [
    "sns.scatterplot(x = lower_optimal_PF[:,0], y = lower_optimal_PF[:,1], s = 1)\n",
    "sns.scatterplot(x = upper_optimal_PF[:,0], y = upper_optimal_PF[:,1], s = 1)\n",
    "plt.scatter(x = sigmamin, y = mumin[0][0], s=2)"
   ]
  },
  {
   "cell_type": "markdown",
   "metadata": {},
   "source": [
    "Simulate random Portfolio"
   ]
  },
  {
   "cell_type": "code",
   "execution_count": 4,
   "metadata": {},
   "outputs": [],
   "source": [
    "# allow negative pf weights?"
   ]
  },
  {
   "cell_type": "code",
   "execution_count": 93,
   "metadata": {},
   "outputs": [],
   "source": [
    "cov = np.cov(log_returns, rowvar=False)\n",
    "returns = np.random.multivariate_normal(mu, cov, size=1000)\n"
   ]
  },
  {
   "cell_type": "code",
   "execution_count": 94,
   "metadata": {},
   "outputs": [],
   "source": [
    "# create random portfolio weights\n",
    "PF_weights = np.random.rand(500,6)\n",
    "PF_weights = PF_weights/PF_weights.sum(axis=1, keepdims=True)"
   ]
  },
  {
   "cell_type": "code",
   "execution_count": 95,
   "metadata": {},
   "outputs": [],
   "source": [
    "# calculate PF Returns"
   ]
  },
  {
   "cell_type": "code",
   "execution_count": 96,
   "metadata": {},
   "outputs": [],
   "source": [
    "temp_returns = PF_weights[0] * returns"
   ]
  },
  {
   "cell_type": "code",
   "execution_count": 97,
   "metadata": {},
   "outputs": [],
   "source": [
    "temp_returns_overall = temp_returns.sum(axis=1)"
   ]
  },
  {
   "cell_type": "code",
   "execution_count": 98,
   "metadata": {},
   "outputs": [
    {
     "data": {
      "text/plain": [
       "array([-1.94201966e+00, -2.10698910e+00, -3.75175004e+00, -8.05914936e-01,\n",
       "       -1.31429697e+00,  2.27128642e-01, -1.52229874e+00,  1.05536930e+00,\n",
       "       -2.43939036e-01, -1.65765401e-01,  3.58134692e+00, -1.36684599e+00,\n",
       "        5.24999221e-01,  1.95168087e+00, -1.12525798e+00, -2.28588547e-01,\n",
       "       -1.14240490e+00,  1.75703683e-01,  9.37687861e-01, -1.42932438e+00,\n",
       "        1.48943467e+00, -1.81797330e+00,  8.86582731e-01, -1.26284301e+00,\n",
       "        8.59812855e-01,  1.10004155e+00,  1.83121272e+00, -1.95707697e-01,\n",
       "       -1.26590899e+00, -2.85909970e+00, -3.35757718e+00,  1.84005557e+00,\n",
       "       -2.69753232e+00,  6.58669090e-01,  1.81916914e-01, -9.51913401e-01,\n",
       "        1.90769471e+00,  3.16981455e-01, -4.84007372e-01, -1.68499128e+00,\n",
       "       -1.07530171e+00, -2.61821455e+00, -1.32572535e+00, -8.66397684e-01,\n",
       "       -1.11664483e+00,  6.93506780e-01,  2.03422945e+00,  6.42822690e-02,\n",
       "        6.48483069e-01, -3.06415493e+00,  1.78266543e+00, -1.34652782e+00,\n",
       "       -1.27888976e+00,  4.93240138e-01, -1.24310620e+00,  5.15093993e-01,\n",
       "        2.27110717e+00, -1.05668005e+00,  2.87175588e-01,  2.05145671e-01,\n",
       "       -1.69199384e+00,  1.19478484e+00, -3.83585294e+00, -1.73140528e+00,\n",
       "        7.33855717e-01,  3.38469050e+00, -1.43284832e+00, -4.55940650e-01,\n",
       "       -1.13071484e+00,  5.69424782e-01,  7.72556210e-01,  1.67023355e+00,\n",
       "       -4.72959878e-01, -2.63530506e+00,  1.88857727e+00, -1.59851842e+00,\n",
       "       -2.53086571e+00, -1.33013254e+00,  1.71366326e+00,  1.28178087e+00,\n",
       "        9.92779433e-01,  4.43663803e-01, -1.06410682e+00, -8.58800810e-01,\n",
       "        4.29016679e-01,  9.52754279e-01,  6.60036259e-01, -3.41031415e+00,\n",
       "        2.75436032e+00, -1.54168297e+00,  7.27065694e-01, -4.22916859e-01,\n",
       "       -3.40390231e+00,  4.14799367e-04, -2.43290689e+00,  1.41758931e+00,\n",
       "       -2.13494414e+00,  5.01511452e-01, -1.00184406e+00, -2.18467325e+00,\n",
       "        9.58382575e-01, -8.59401007e-01, -6.41216194e-01,  6.95722924e-01,\n",
       "        3.83899344e+00, -5.86886583e-02, -1.58441271e+00,  2.89423903e+00,\n",
       "        8.32340805e-01,  6.93801316e-01,  6.56274059e-01,  6.56316681e-01,\n",
       "       -4.89472521e-01,  1.17524304e+00, -4.81574479e-01,  8.54346530e-01,\n",
       "       -4.63134326e-01,  3.96157747e-02, -3.73737168e-01,  5.16948871e-01,\n",
       "       -2.11627013e+00,  1.18779175e+00, -2.69451235e-01,  4.01942701e+00,\n",
       "        1.44230614e+00,  4.14964219e+00,  1.70642490e+00, -1.45260506e+00,\n",
       "        7.04887923e-01,  4.07679338e-01,  1.28127148e+00, -4.58289547e-01,\n",
       "        3.00695518e+00, -1.22657611e-01,  6.75032221e-01,  1.51879868e-01,\n",
       "       -1.26196138e+00, -6.42319144e-01, -1.64209042e+00, -1.46771975e+00,\n",
       "        1.07088066e+00,  2.89123838e+00,  1.85789767e+00,  3.88891564e-01,\n",
       "       -1.61618656e+00,  4.19656853e-01, -2.53225455e-01, -7.87876145e-01,\n",
       "        1.13889267e+00,  1.61438803e+00,  6.23100735e-01,  3.51005671e-01,\n",
       "        1.49866320e+00,  1.65817071e+00, -2.26674123e+00,  1.58410514e+00,\n",
       "        2.45216165e-01,  3.56189114e-01,  7.31160189e-01, -7.44484161e-01,\n",
       "       -1.46587723e+00, -8.83115229e-01, -3.22654190e+00,  2.19169568e+00,\n",
       "        6.04455493e-01, -2.13871105e+00, -9.53091721e-01,  1.69883560e-01,\n",
       "       -1.84573978e+00, -1.14892322e+00,  1.30803054e+00, -8.19187339e-01,\n",
       "        1.93080704e+00,  5.25844010e-01, -1.75667930e+00, -4.00084098e-01,\n",
       "       -1.74786508e+00,  1.49273012e+00, -2.71747052e+00, -1.36468869e+00,\n",
       "        1.17965706e+00, -2.33625296e+00,  4.15379056e-01,  1.60912934e+00,\n",
       "        3.97769778e-01, -2.91947721e+00,  8.12732377e-01,  1.33334426e+00,\n",
       "       -1.00553484e+00,  1.80708915e-01,  1.68874911e+00, -2.49751568e-01,\n",
       "        1.38906393e+00, -1.26612903e+00,  6.92892194e-01, -1.99117206e+00,\n",
       "       -1.16180403e+00, -8.17943101e-01, -2.74842723e-01, -5.01859235e-01,\n",
       "        9.42115305e-01,  2.58119499e+00,  9.89104164e-02,  2.64892142e-01,\n",
       "       -1.42537492e+00, -7.19230177e-01, -3.17689668e+00, -2.30264084e+00,\n",
       "       -3.13759568e+00, -8.91107830e-03,  3.72422203e+00,  1.19729361e+00,\n",
       "       -2.15466554e-01, -2.72405736e+00,  7.87697672e-01, -6.54027160e-01,\n",
       "       -2.31056155e+00,  1.07236494e+00,  2.21499864e-01,  3.03854313e-01,\n",
       "       -2.70998840e-02, -4.69744870e+00, -1.10734432e+00,  8.19896223e-01,\n",
       "        2.49432809e+00,  1.90414365e+00, -1.65198194e-01, -1.13707387e+00,\n",
       "        3.31673728e+00,  4.44595386e-01, -1.83633325e+00,  1.92055151e+00,\n",
       "        3.02231441e+00,  6.82655688e-01,  4.70180458e-01, -3.11166357e-01,\n",
       "        5.68367403e-02,  5.94030138e-01,  1.23782061e+00,  2.19681385e-01,\n",
       "       -7.71542021e-01,  2.87426532e+00, -3.14162485e-01, -2.96845873e-01,\n",
       "       -8.46647665e-01, -1.25778596e+00, -9.40530877e-01, -1.38536620e-01,\n",
       "        1.87495261e+00,  7.23577783e-01, -1.24394560e+00, -6.94146017e-01,\n",
       "        1.14516452e+00, -4.86749199e-01,  3.20933309e-01, -4.31724009e+00,\n",
       "        4.60293139e+00, -1.11945241e-02,  6.15509042e-01,  1.78591628e-01,\n",
       "        4.39938836e-02,  1.21671885e+00,  9.33533291e-01, -3.15467354e-01,\n",
       "       -7.51650625e-01, -5.82357108e-01, -1.34036393e+00, -6.02966238e-01,\n",
       "       -1.21991716e+00, -5.79097187e-01,  1.47731681e+00, -1.07153450e+00,\n",
       "       -5.32626267e-01, -3.62494859e+00,  1.60182932e+00, -1.91449798e-01,\n",
       "        8.53614939e-01,  8.99954357e-01, -8.39132424e-01, -6.29153038e-01,\n",
       "        1.04560783e+00,  1.94503528e+00,  1.47412578e-01, -5.84499817e-02,\n",
       "        1.15796478e+00, -4.62348826e-01, -2.94858992e+00, -8.07099816e-02,\n",
       "       -1.56024878e+00, -8.27749652e-02, -1.75014291e+00, -1.43052338e+00,\n",
       "        1.94983451e+00,  1.92949465e+00,  1.08552572e+00, -6.76431132e-01,\n",
       "        3.41727939e+00, -1.10119164e-01, -9.99510215e-01, -3.82669579e-01,\n",
       "        1.14515161e+00, -1.80536729e-01,  3.35416279e+00, -1.45578400e+00,\n",
       "        1.68834204e+00,  2.64369888e+00, -1.48198027e+00,  1.96824120e+00,\n",
       "       -2.23372325e-03, -1.02015167e-01,  2.92010400e+00,  6.02917809e-01,\n",
       "        1.72544832e+00,  7.87368166e-01,  5.12133278e-02,  1.42988013e+00,\n",
       "        8.92170561e-01, -7.07406239e-01,  5.44746581e-01, -1.60525803e-01,\n",
       "       -4.02909413e-01, -8.49562108e-01, -1.40573435e+00,  2.64483349e+00,\n",
       "        1.48914463e+00, -6.86871650e-02,  2.34495671e+00,  6.57867712e-01,\n",
       "       -1.97235036e-01,  3.12522427e+00,  8.64964584e-01,  1.07863860e+00,\n",
       "       -1.75320367e-01,  2.08632087e+00,  2.09173839e+00,  6.19700647e-02,\n",
       "       -5.77692195e-01, -4.67500727e-01,  3.40381734e+00, -1.57985702e+00,\n",
       "        2.18172321e+00, -7.13768992e-01, -5.17810620e-01, -1.57519094e+00,\n",
       "       -1.60780272e-01,  2.60004136e-01,  1.45514763e+00,  4.49249767e-01,\n",
       "        3.96588387e-01, -1.90270148e-01,  8.52040040e-01,  1.66812230e+00,\n",
       "        9.04336256e-01,  2.30457176e+00,  9.40685382e-01, -3.58143038e-01,\n",
       "       -1.22461536e-01, -4.68832179e-01, -8.73104803e-02,  1.19170993e+00,\n",
       "        8.53514667e-02, -7.55214043e-02, -3.40225374e+00, -1.20040415e+00,\n",
       "       -5.04993660e-01,  6.73514716e-01, -1.55301257e+00,  1.32275243e+00,\n",
       "       -1.59725116e+00, -7.92335505e-01, -2.81561219e+00, -2.19523352e+00,\n",
       "        1.99744775e+00,  1.21640576e+00,  1.50288415e+00, -1.20530319e+00,\n",
       "       -3.23163506e-01, -1.07644604e+00, -1.36166466e+00,  2.72800119e+00,\n",
       "       -1.48692118e+00, -1.59504736e-01,  2.49171172e+00, -1.86801347e+00,\n",
       "       -9.10837405e-01, -1.96759665e+00,  8.97894045e-01, -1.98783591e+00,\n",
       "        1.62441215e+00,  1.80672695e-02, -4.24533766e+00,  2.59746958e-02,\n",
       "        9.78439005e-02, -1.42792035e+00, -4.32776110e-01, -3.10232561e-01,\n",
       "       -5.85608974e-01,  6.66497829e-01, -6.10491912e-01, -3.82579339e+00,\n",
       "        8.89205762e-01, -5.19539892e-01, -1.23585369e-01, -3.16528032e-01,\n",
       "       -7.63329563e-01,  8.01723906e-01, -1.31145390e+00,  2.03443171e+00,\n",
       "        2.36265106e-01, -9.83979215e-01,  1.36686300e+00,  8.44670437e-01,\n",
       "        1.14198842e+00, -3.30905794e+00, -7.52253301e-01,  6.02917108e-01,\n",
       "        7.75298603e-01, -8.34127648e-01, -1.02166498e+00, -9.65092920e-02,\n",
       "       -5.67708783e-01, -2.32520976e+00,  2.29796529e+00,  8.05778199e-02,\n",
       "       -4.07797212e-01, -3.91164671e+00, -5.00207247e-01, -3.03611478e+00,\n",
       "       -2.54809578e+00, -1.75984322e+00,  4.74258350e-01, -4.05746038e-01,\n",
       "       -1.69434190e+00, -8.25196401e-01, -5.19939227e-01,  2.08876433e+00,\n",
       "       -7.36785311e-02,  2.23940381e+00, -1.34457555e+00, -1.46606937e+00,\n",
       "       -3.22405406e-01, -1.33080709e-01, -1.76780526e+00,  9.98349126e-01,\n",
       "        2.59930579e+00,  8.15157000e-01, -2.09110327e+00, -1.59453450e+00,\n",
       "       -2.46396775e+00,  2.20576219e+00,  1.85094860e-01,  1.97589838e-01,\n",
       "        5.77222184e-01, -1.22856532e+00,  4.82007122e-01,  1.99232909e-01,\n",
       "       -2.52067294e+00, -2.41013847e+00, -6.96344009e-01, -2.27056581e+00,\n",
       "       -8.32499361e-01, -3.06769780e+00,  9.64831397e-01,  9.78844767e-01,\n",
       "       -3.01071891e-01,  8.83458105e-01,  4.15129018e-01, -1.69968552e+00,\n",
       "        7.71579383e-01, -2.22495523e+00, -8.07189332e-01, -3.16104612e+00,\n",
       "        1.81952126e+00, -1.91028944e+00, -1.03934185e+00,  1.80291804e+00,\n",
       "       -1.87960242e-01, -2.95809816e+00,  1.12458065e+00, -3.49999070e+00,\n",
       "       -1.69508674e+00, -9.16495743e-02, -2.15212143e+00,  3.53920368e-01,\n",
       "       -3.75189851e-01, -1.89041849e+00,  3.13376631e+00,  2.56486794e+00,\n",
       "        1.03930514e+00,  1.20534853e+00,  5.46916819e-01,  1.31662786e+00,\n",
       "       -1.56817532e-01,  9.61234903e-01, -8.25406845e-01,  6.72740218e-01,\n",
       "       -1.38534364e+00, -1.58988812e+00, -1.14584475e+00, -1.35461103e+00,\n",
       "       -1.14305019e+00, -1.24564076e+00, -1.12353149e-01,  1.99125559e+00,\n",
       "        2.85796150e+00, -3.72566138e+00, -1.44739202e+00,  9.63765102e-01,\n",
       "        2.99201858e-01, -1.84625657e+00, -9.65438154e-01,  4.47208021e-01,\n",
       "       -6.37834695e-01,  2.20433096e-01,  1.03654961e+00,  6.53593597e-01,\n",
       "       -7.19340285e-01, -2.73936735e+00, -9.25792458e-01, -8.41004155e-01,\n",
       "       -7.72111920e-01,  5.64720502e-01, -2.93216280e+00, -9.51017865e-01,\n",
       "        1.30292321e-01,  1.50824541e+00,  6.49100662e-02,  6.54054554e-01,\n",
       "       -8.37026833e-02,  3.62856747e+00, -1.03790839e+00, -3.61345632e-01,\n",
       "       -2.08208904e+00,  3.25190163e-01, -1.09399183e+00,  6.41736467e-01,\n",
       "       -2.39815758e-01,  1.72625253e-01,  1.23385233e+00,  3.05164406e+00,\n",
       "       -1.76532047e+00,  4.00341585e-01,  5.32117163e-01,  1.23169786e+00,\n",
       "       -3.41597775e-01,  1.05824889e+00, -2.59253748e+00,  2.01434564e+00,\n",
       "       -2.03033952e+00, -6.02579314e-01,  1.16974142e+00,  1.71286865e+00,\n",
       "        1.41808185e+00,  1.30525345e-02,  1.67162651e+00,  6.51421545e-01,\n",
       "       -1.33904990e+00, -2.96005200e+00, -9.88165025e-01,  6.36016387e-01,\n",
       "       -6.48792306e-02,  1.12639824e+00, -1.72007573e+00, -8.46793505e-01,\n",
       "       -1.54998245e-01, -9.99440236e-01, -1.65218245e+00, -8.00693844e-01,\n",
       "        1.13151565e-01,  2.87603289e-01, -1.01839891e-01,  5.34572744e-01,\n",
       "       -1.01799888e+00,  6.18073051e-01, -1.20534705e-01, -9.80672368e-01,\n",
       "       -5.88133139e-01,  4.22184795e+00, -3.87279156e+00,  1.19544300e+00,\n",
       "       -6.89748755e-01,  2.50323281e+00, -2.10916105e+00, -9.43919385e-02,\n",
       "        2.01026258e+00, -7.09885919e-01,  2.57320172e+00, -5.43370472e-01,\n",
       "       -1.08583933e+00, -2.38242126e+00,  1.76308105e+00,  2.45267806e-01,\n",
       "        6.20321796e-01,  7.55186041e-01,  9.21914160e-01, -6.13591615e-01,\n",
       "        5.90312425e-01, -5.59113528e-01, -1.49476051e+00,  4.58860127e-01,\n",
       "        3.45986560e+00, -1.13230675e-01, -2.61836644e+00, -8.23374047e-01,\n",
       "       -1.71599679e+00,  6.39747383e-01, -6.18789789e-01, -5.42823649e-01,\n",
       "        5.21902363e-01,  1.76771615e+00, -5.33518848e-01,  8.29451352e-01,\n",
       "       -1.49583158e+00, -1.10649711e+00,  1.98424728e+00, -9.90888962e-01,\n",
       "       -2.00957329e-01,  3.50699436e-01, -4.12841828e-01, -9.61128551e-01,\n",
       "        1.40878045e+00, -1.39923897e+00, -1.20436005e-01,  5.99688539e-01,\n",
       "       -2.24318620e+00, -8.58814944e-01,  1.91585898e-01,  5.93570544e-01,\n",
       "        4.57991366e-01, -3.45629006e-01, -1.19442634e-01,  7.29042351e-01,\n",
       "       -1.83108434e+00,  4.53094944e+00, -7.69738117e-01,  4.66499625e-01,\n",
       "       -2.07153646e+00, -8.17686746e-01,  6.99541445e-01,  1.76326434e+00,\n",
       "       -7.89266649e-01, -2.53745459e+00,  4.13053659e-01, -1.07411105e+00,\n",
       "       -1.55140669e+00, -1.96900282e+00,  1.27513556e-01, -1.76194618e+00,\n",
       "       -4.82366195e-01,  6.60904977e-02,  9.21014794e-02,  5.75599143e-01,\n",
       "        5.32817851e-01, -1.59887457e+00, -6.02546750e-01, -3.82935078e-01,\n",
       "        2.78754121e-01, -1.49023065e+00,  3.69504640e-01,  1.05490209e+00,\n",
       "       -5.08413571e-01,  3.27489817e-01,  2.22602033e+00,  8.13799696e-01,\n",
       "       -1.12369059e+00,  8.31914944e-01,  3.61054558e-01, -2.77274334e+00,\n",
       "       -8.19263650e-01,  1.70812735e+00, -1.59014995e+00, -2.94376757e-01,\n",
       "        1.24898410e+00,  5.97794192e-01, -4.39979430e-01, -2.07251164e-01,\n",
       "        1.36184432e-01, -4.30441563e-01,  6.59888150e-01, -2.31508976e+00,\n",
       "        2.88374587e+00,  1.05551853e+00, -2.83340823e+00, -1.82272887e+00,\n",
       "       -3.21399427e+00,  5.79008175e-01, -4.84052690e+00,  1.87192591e+00,\n",
       "        3.51978156e+00,  2.03445804e-01, -3.41105591e+00,  1.59553295e+00,\n",
       "       -1.88531340e+00,  3.95618495e-01, -2.85980240e+00,  4.38874771e-01,\n",
       "       -1.94973550e-01,  2.45650065e+00, -2.52476951e+00,  6.58463406e-01,\n",
       "        1.23055931e+00,  3.78594322e-01,  1.52670075e+00, -1.37613869e+00,\n",
       "        8.58606209e-02,  2.67018042e+00, -1.94592105e+00, -1.63288443e+00,\n",
       "        8.51936268e-03,  6.33729684e-01,  5.44104195e-01, -1.98528164e+00,\n",
       "        7.62762927e-01, -6.06427058e-01,  2.86839981e-01, -2.00239369e+00,\n",
       "        1.51259091e+00, -8.40488898e-01,  3.97736165e+00, -2.94296066e+00,\n",
       "        1.18153478e+00, -2.16533722e+00,  1.25867890e+00,  1.26482102e+00,\n",
       "        2.02958547e+00,  1.72538323e+00,  3.39268279e-01, -8.11336111e-01,\n",
       "        3.27107427e+00,  1.89004459e+00,  1.97207835e+00, -1.00642089e+00,\n",
       "       -1.25517051e-01,  7.74222296e-01,  9.14294483e-01,  2.73316760e-01,\n",
       "       -8.61908123e-01, -3.57805006e-01,  1.79648626e-01, -2.23710605e+00,\n",
       "        2.54716762e-01, -2.31068895e-01, -3.86346112e-01, -1.58400533e+00,\n",
       "       -1.81211037e+00,  2.47282472e-01,  8.81517237e-01, -2.28493012e+00,\n",
       "       -1.60508117e-01, -2.23546472e+00, -6.35568409e-01,  2.05534640e+00,\n",
       "       -1.34226960e+00, -1.99455668e+00,  3.42202114e+00,  6.08066809e-01,\n",
       "       -1.96270840e+00, -1.73344819e+00,  8.89598901e-03,  1.13815047e+00,\n",
       "        4.55770065e-01,  1.72074818e+00, -1.89872119e+00, -7.86301453e-01,\n",
       "        3.16667691e+00,  9.01968550e-01, -4.83534182e-01,  1.63321395e+00,\n",
       "       -7.17972938e-01,  7.13581785e-01,  7.07662103e-01, -2.69827147e+00,\n",
       "       -8.30933455e-01, -3.76953381e-01, -3.31716090e-03, -7.51129665e-01,\n",
       "        1.85049891e+00,  2.12464805e+00, -1.21462303e+00,  1.22942972e+00,\n",
       "       -2.10347754e+00, -1.93951309e+00, -1.83420924e-01,  1.33284189e+00,\n",
       "        4.04769284e-01, -1.93651379e+00, -1.37156040e+00,  1.93615025e+00,\n",
       "       -4.47978328e-01,  1.80697124e+00,  8.79609961e-01, -1.97262016e+00,\n",
       "       -1.33208518e+00,  2.67365814e+00, -2.25300753e+00,  1.15825818e+00,\n",
       "        8.24228868e-01, -1.77730099e+00, -2.75977846e+00,  1.12081202e+00,\n",
       "       -4.10675119e-01, -1.18599871e+00, -2.65853208e+00, -1.00378654e+00,\n",
       "       -5.52376930e-01, -2.55021443e+00, -8.11500728e-01, -1.14189030e-01,\n",
       "       -2.62146331e+00, -1.17444633e+00, -2.02156918e+00, -5.79571397e-01,\n",
       "       -1.52327567e+00, -2.90574201e+00,  3.17722328e-01, -1.20473399e+00,\n",
       "       -3.50399922e+00,  1.78664088e+00,  1.17420433e-01,  1.49001377e+00,\n",
       "       -6.83612597e-01, -8.34968708e-01, -2.19445593e+00, -8.47438059e-01,\n",
       "        4.37491984e+00,  1.40182621e-01, -1.95153995e+00, -2.43628984e+00,\n",
       "       -7.98844166e-01,  3.32317567e-01, -3.74520841e-01,  8.51387274e-01,\n",
       "       -1.48324756e+00, -2.52348427e-01, -2.08465372e+00,  7.13563796e-01,\n",
       "        7.17174017e-01,  9.12402685e-01, -1.06504794e+00,  1.83203316e-01,\n",
       "        1.75510923e+00, -2.63396354e+00,  2.60852859e-01, -6.07085541e-01,\n",
       "       -7.93015828e-01,  7.02696550e-01, -1.89349929e+00, -8.93472195e-01,\n",
       "       -4.30063619e-01,  3.51720450e-01,  1.97700123e-02,  9.91619142e-02,\n",
       "        2.60539904e+00, -4.92271669e-01, -1.39270285e+00,  2.11644630e+00,\n",
       "       -9.43794825e-02,  4.74833262e-01,  6.34850843e-01, -1.96866473e+00,\n",
       "       -1.29228873e+00, -1.68697708e+00,  1.10396748e+00, -5.88192441e-01,\n",
       "        6.48844146e-01, -8.26653100e-01, -1.37071551e+00,  3.83443027e-01,\n",
       "       -1.33158420e-01,  2.00547815e-01, -2.25583997e-02,  2.02370391e+00,\n",
       "        2.51638866e+00,  1.20612927e+00, -1.25730685e-01,  7.98695440e-01,\n",
       "       -2.59679596e+00, -1.25833944e+00, -1.15087603e+00,  5.93317396e-01,\n",
       "        6.03959541e-01,  7.63256024e-01,  5.71620548e-01,  2.85884905e+00,\n",
       "        1.30270225e+00,  1.40070915e+00, -3.79715682e-01, -8.91361925e-01,\n",
       "       -4.31208953e-02,  9.41578724e-01, -1.15174027e-01,  1.37693407e+00,\n",
       "        3.23118576e-01,  9.37613858e-01,  3.60323127e+00, -3.04539843e+00,\n",
       "       -2.71224959e+00, -9.90289745e-01,  3.05711598e+00,  1.57622063e+00,\n",
       "        1.67534258e-01,  3.00864050e-01,  5.88597187e-01,  3.49905680e+00,\n",
       "        5.85382360e-01,  1.88969490e+00,  2.02635688e+00, -6.12435743e-02,\n",
       "       -9.33218700e-01, -3.94959210e-01,  3.09939652e-01, -2.59300988e+00,\n",
       "        1.32020501e+00, -7.66480000e-01,  7.36466462e-01,  9.51243274e-01,\n",
       "        5.41663475e-01,  3.75309048e-01, -9.04523943e-01, -1.74288651e+00,\n",
       "        1.42317025e+00, -1.18887916e+00,  9.42097053e-01, -7.84667417e-01,\n",
       "        1.47443215e-01, -4.37747720e-01,  3.77527787e+00, -6.95650265e-01,\n",
       "       -1.25544777e+00, -4.37184152e-03, -4.30558952e-01, -2.14817928e+00,\n",
       "        1.10505615e+00, -1.02959546e+00,  7.67745027e-01,  7.60252651e-01,\n",
       "       -3.38490753e-01,  8.01840040e-01, -6.27361400e-01,  2.41780302e-01,\n",
       "       -8.72567440e-01,  3.98654849e-01,  3.96425769e-01, -2.24917813e+00,\n",
       "        1.53817382e+00, -4.35867464e-01, -9.80180400e-01,  1.63996437e+00,\n",
       "        2.06874553e-01,  2.80584695e+00,  1.28722244e-01, -4.94812177e-01,\n",
       "       -1.47933612e+00, -2.26456662e+00,  3.28619636e-01,  1.18147133e+00,\n",
       "        2.86784844e-01, -6.78536945e-01, -1.62560955e+00, -2.78290500e+00,\n",
       "        1.77392967e-02, -4.08702409e-01, -2.29875120e+00, -4.54201579e-01,\n",
       "        1.15182798e+00, -1.48285642e+00, -1.86861617e+00,  1.29633213e+00,\n",
       "        9.54438859e-02,  1.62290380e+00, -3.02371528e+00, -3.02837407e+00,\n",
       "        5.38929327e-01,  1.60882163e+00,  1.18314088e-01, -1.31767184e-01,\n",
       "        2.45707031e-01,  1.11469164e+00,  3.86177334e-01, -4.39838273e-02,\n",
       "       -8.80273346e-01, -1.36295408e+00, -1.32843283e+00, -2.70613785e+00,\n",
       "        1.31148440e+00, -2.09720432e+00,  2.08028819e+00, -1.20241993e-01,\n",
       "        4.78030456e-01,  7.00840969e-01, -8.74863563e-01,  2.41586202e-01,\n",
       "       -4.29519313e-01, -8.96161798e-01, -2.39058488e+00,  8.24583056e-01,\n",
       "        1.39350600e+00, -1.14636248e+00, -2.25133463e+00,  3.56628984e-01])"
      ]
     },
     "execution_count": 98,
     "metadata": {},
     "output_type": "execute_result"
    }
   ],
   "source": [
    "temp_returns_overall"
   ]
  },
  {
   "cell_type": "code",
   "execution_count": 99,
   "metadata": {},
   "outputs": [
    {
     "data": {
      "text/plain": [
       "np.float64(1.5379779738979464)"
      ]
     },
     "execution_count": 99,
     "metadata": {},
     "output_type": "execute_result"
    }
   ],
   "source": [
    "temp_returns_overall.std()"
   ]
  },
  {
   "cell_type": "code",
   "execution_count": 100,
   "metadata": {},
   "outputs": [],
   "source": [
    "def calculate_pf_returns(PF_weight, returns):\n",
    "    temp_returns_overall2 = (PF_weight * returns).sum(axis=1)\n",
    "    temp_mean = temp_returns_overall2.mean()\n",
    "    temp_std = temp_returns_overall2.std()\n",
    "    return temp_mean, temp_std\n"
   ]
  },
  {
   "cell_type": "code",
   "execution_count": 101,
   "metadata": {},
   "outputs": [
    {
     "data": {
      "text/plain": [
       "(np.float64(-0.10572034836116644), np.float64(1.5379779738979464))"
      ]
     },
     "execution_count": 101,
     "metadata": {},
     "output_type": "execute_result"
    }
   ],
   "source": [
    "calculate_pf_returns(PF_weight=PF_weights[0], returns=returns)"
   ]
  },
  {
   "cell_type": "code",
   "execution_count": 102,
   "metadata": {},
   "outputs": [],
   "source": [
    "simulated_mu_sigma = np.empty((500,2))\n",
    "for i in range(0, len(PF_weights)):\n",
    "    simulated_mu_sigma[i] = calculate_pf_returns(PF_weight=PF_weights[i], returns=returns)"
   ]
  },
  {
   "cell_type": "code",
   "execution_count": 103,
   "metadata": {},
   "outputs": [
    {
     "data": {
      "text/plain": [
       "array([[-0.10572035,  1.53797797],\n",
       "       [-0.03791253,  1.37150231],\n",
       "       [-0.03304625,  1.224256  ],\n",
       "       [-0.07637449,  1.44339716],\n",
       "       [-0.03080228,  1.13840468],\n",
       "       [-0.03344057,  1.12734378],\n",
       "       [-0.02635283,  1.26971623],\n",
       "       [-0.02525831,  1.11525126],\n",
       "       [-0.05436837,  1.20919665],\n",
       "       [-0.04170846,  1.19985546],\n",
       "       [-0.03248668,  1.15643963],\n",
       "       [-0.05911979,  1.25513016],\n",
       "       [-0.02556341,  1.21003291],\n",
       "       [-0.03833497,  1.20486249],\n",
       "       [-0.03432444,  1.14101986],\n",
       "       [-0.0325217 ,  1.16811149],\n",
       "       [-0.05290808,  1.30700004],\n",
       "       [-0.07487169,  1.41654243],\n",
       "       [-0.01195416,  1.09847197],\n",
       "       [-0.06305686,  1.35665129],\n",
       "       [-0.04998661,  1.45431463],\n",
       "       [-0.06994566,  1.30804034],\n",
       "       [-0.03531816,  1.29830724],\n",
       "       [-0.02924668,  1.15584172],\n",
       "       [-0.06064103,  1.32446118],\n",
       "       [-0.04526601,  1.2032401 ],\n",
       "       [-0.02910035,  1.17172323],\n",
       "       [-0.01283607,  1.11176846],\n",
       "       [-0.04912123,  1.23000502],\n",
       "       [-0.07284705,  1.3529537 ],\n",
       "       [-0.01930856,  1.13142087],\n",
       "       [-0.04680332,  1.1848239 ],\n",
       "       [-0.01984399,  1.13324222],\n",
       "       [-0.03302382,  1.23455424],\n",
       "       [-0.03283689,  1.24549662],\n",
       "       [-0.08807969,  1.70164027],\n",
       "       [-0.06523284,  1.29019252],\n",
       "       [-0.01928514,  1.11672106],\n",
       "       [-0.04413536,  1.18313652],\n",
       "       [-0.03650181,  1.28511838],\n",
       "       [-0.04223154,  1.27959927],\n",
       "       [-0.05023589,  1.27346301],\n",
       "       [-0.03943752,  1.18009442],\n",
       "       [-0.06386507,  1.30247015],\n",
       "       [-0.03138058,  1.13685463],\n",
       "       [-0.06260857,  1.28429353],\n",
       "       [-0.04429273,  1.16995434],\n",
       "       [-0.04782585,  1.17867921],\n",
       "       [-0.05527987,  1.2802549 ],\n",
       "       [-0.06711894,  1.25932065],\n",
       "       [-0.0239426 ,  1.14502118],\n",
       "       [-0.03362167,  1.18295946],\n",
       "       [-0.07524074,  1.41513543],\n",
       "       [-0.0459773 ,  1.18525012],\n",
       "       [-0.06733748,  1.26129905],\n",
       "       [-0.04435608,  1.15960426],\n",
       "       [-0.03567521,  1.18109596],\n",
       "       [-0.04538864,  1.17298772],\n",
       "       [-0.05635761,  1.2404111 ],\n",
       "       [-0.03982002,  1.28331469],\n",
       "       [-0.06557006,  1.30787151],\n",
       "       [-0.03142143,  1.2392195 ],\n",
       "       [-0.04637087,  1.17733816],\n",
       "       [-0.04278241,  1.24451484],\n",
       "       [-0.07034708,  1.40577731],\n",
       "       [-0.03997372,  1.27309571],\n",
       "       [-0.01474433,  1.06355979],\n",
       "       [-0.02551887,  1.14801925],\n",
       "       [-0.06706012,  1.4136054 ],\n",
       "       [-0.03266978,  1.16214997],\n",
       "       [-0.04249916,  1.19352931],\n",
       "       [-0.05410027,  1.23291254],\n",
       "       [-0.03480799,  1.16671338],\n",
       "       [-0.00522199,  1.05028115],\n",
       "       [-0.04224428,  1.27088568],\n",
       "       [-0.03578047,  1.13993598],\n",
       "       [-0.06195209,  1.32867368],\n",
       "       [-0.0314552 ,  1.16143158],\n",
       "       [-0.0310562 ,  1.28768641],\n",
       "       [-0.05580157,  1.34159529],\n",
       "       [-0.03247162,  1.26163677],\n",
       "       [-0.07073782,  1.35163504],\n",
       "       [-0.04583082,  1.32870188],\n",
       "       [-0.01053618,  1.06991181],\n",
       "       [-0.04247329,  1.20439242],\n",
       "       [-0.03070211,  1.12417928],\n",
       "       [-0.04256815,  1.18303972],\n",
       "       [-0.05082643,  1.23023003],\n",
       "       [-0.0578746 ,  1.28743359],\n",
       "       [-0.03678382,  1.13173424],\n",
       "       [-0.02077179,  1.19102523],\n",
       "       [-0.04656242,  1.18097096],\n",
       "       [-0.02763882,  1.13082785],\n",
       "       [-0.04842711,  1.17834496],\n",
       "       [-0.02631372,  1.14697021],\n",
       "       [-0.03733719,  1.27912247],\n",
       "       [-0.05752473,  1.261674  ],\n",
       "       [-0.0335401 ,  1.1947883 ],\n",
       "       [-0.05426934,  1.20392181],\n",
       "       [-0.0276023 ,  1.17618686],\n",
       "       [-0.0397054 ,  1.27707334],\n",
       "       [-0.04242301,  1.22221007],\n",
       "       [-0.03645798,  1.15069781],\n",
       "       [-0.0150099 ,  1.09200098],\n",
       "       [-0.0530483 ,  1.22075036],\n",
       "       [-0.02710705,  1.11911422],\n",
       "       [-0.02776491,  1.17520352],\n",
       "       [-0.03753066,  1.30291341],\n",
       "       [-0.0611547 ,  1.25228058],\n",
       "       [-0.06811309,  1.43804239],\n",
       "       [-0.04945083,  1.18151417],\n",
       "       [-0.0520107 ,  1.25242394],\n",
       "       [-0.05788193,  1.29059581],\n",
       "       [-0.02686346,  1.10509194],\n",
       "       [-0.05862175,  1.28012852],\n",
       "       [-0.07623994,  1.41149325],\n",
       "       [-0.06442258,  1.36111409],\n",
       "       [-0.01984555,  1.14263549],\n",
       "       [-0.03902113,  1.15570317],\n",
       "       [-0.0387434 ,  1.17004097],\n",
       "       [-0.03205803,  1.15503908],\n",
       "       [-0.0543858 ,  1.27589374],\n",
       "       [-0.04438912,  1.18896957],\n",
       "       [-0.01010258,  1.11961395],\n",
       "       [-0.01793709,  1.0856077 ],\n",
       "       [-0.049352  ,  1.18685888],\n",
       "       [-0.03841244,  1.31750126],\n",
       "       [-0.03814027,  1.17136588],\n",
       "       [-0.06508847,  1.35142697],\n",
       "       [-0.04928114,  1.22190735],\n",
       "       [-0.01497393,  1.11065376],\n",
       "       [-0.0415835 ,  1.17255544],\n",
       "       [-0.02601708,  1.13089279],\n",
       "       [-0.0200376 ,  1.0886092 ],\n",
       "       [-0.02994487,  1.22618348],\n",
       "       [-0.05474099,  1.2712172 ],\n",
       "       [-0.07706625,  1.3997623 ],\n",
       "       [-0.04237229,  1.18551255],\n",
       "       [-0.04066213,  1.18363561],\n",
       "       [-0.05394442,  1.24428633],\n",
       "       [-0.03506197,  1.18409576],\n",
       "       [-0.02567541,  1.1286521 ],\n",
       "       [-0.04481069,  1.22981741],\n",
       "       [-0.04155142,  1.16962907],\n",
       "       [-0.07328783,  1.3168758 ],\n",
       "       [-0.0331817 ,  1.21550698],\n",
       "       [-0.06723501,  1.28993977],\n",
       "       [-0.02885565,  1.12974699],\n",
       "       [-0.04669023,  1.34714965],\n",
       "       [-0.02270782,  1.19435516],\n",
       "       [-0.06306162,  1.23962694],\n",
       "       [-0.06798828,  1.29760587],\n",
       "       [-0.05747245,  1.26765548],\n",
       "       [-0.04771478,  1.25892138],\n",
       "       [-0.04252161,  1.15831703],\n",
       "       [-0.06529473,  1.33952221],\n",
       "       [-0.00932584,  1.06534553],\n",
       "       [-0.05003799,  1.27549731],\n",
       "       [-0.05255388,  1.35752896],\n",
       "       [-0.01465541,  1.15600327],\n",
       "       [-0.0611828 ,  1.26900037],\n",
       "       [-0.06253394,  1.31110652],\n",
       "       [-0.02551339,  1.24556313],\n",
       "       [-0.06715512,  1.31368544],\n",
       "       [-0.0281401 ,  1.20770604],\n",
       "       [-0.04672946,  1.22629951],\n",
       "       [-0.04414699,  1.16869068],\n",
       "       [-0.05196385,  1.39264823],\n",
       "       [-0.03606535,  1.21900118],\n",
       "       [-0.07834954,  1.33711039],\n",
       "       [-0.02479034,  1.20580398],\n",
       "       [-0.06007366,  1.26417908],\n",
       "       [-0.05890576,  1.33820436],\n",
       "       [-0.02641827,  1.17679067],\n",
       "       [-0.01627555,  1.09341801],\n",
       "       [-0.05347253,  1.28737379],\n",
       "       [-0.04694773,  1.23918378],\n",
       "       [-0.04286972,  1.26357795],\n",
       "       [-0.05036145,  1.24837374],\n",
       "       [-0.0585743 ,  1.26908524],\n",
       "       [-0.06215828,  1.30483835],\n",
       "       [-0.02370596,  1.0995134 ],\n",
       "       [-0.01046784,  1.10041013],\n",
       "       [-0.04814701,  1.20554697],\n",
       "       [-0.05376896,  1.3047795 ],\n",
       "       [-0.0454091 ,  1.28202608],\n",
       "       [-0.06196873,  1.2918086 ],\n",
       "       [-0.0222354 ,  1.10010474],\n",
       "       [-0.03993239,  1.1484702 ],\n",
       "       [-0.04429938,  1.27667452],\n",
       "       [-0.05765082,  1.3318546 ],\n",
       "       [-0.05059469,  1.28414074],\n",
       "       [-0.04340713,  1.22613132],\n",
       "       [-0.01475994,  1.09044857],\n",
       "       [-0.04745504,  1.19368976],\n",
       "       [-0.06070964,  1.32361242],\n",
       "       [-0.0233698 ,  1.11245052],\n",
       "       [-0.03118188,  1.18167792],\n",
       "       [-0.04027436,  1.2388277 ],\n",
       "       [-0.01677414,  1.12010654],\n",
       "       [-0.00658367,  1.1026452 ],\n",
       "       [-0.0121512 ,  1.10602638],\n",
       "       [-0.03648338,  1.30168034],\n",
       "       [-0.01493721,  1.1609872 ],\n",
       "       [-0.04039516,  1.16948645],\n",
       "       [-0.01250039,  1.08666738],\n",
       "       [-0.04787588,  1.225729  ],\n",
       "       [-0.020273  ,  1.0815881 ],\n",
       "       [-0.03779527,  1.21630464],\n",
       "       [-0.04150513,  1.29554927],\n",
       "       [-0.04359063,  1.28055086],\n",
       "       [-0.02140257,  1.1648825 ],\n",
       "       [-0.05015354,  1.34830995],\n",
       "       [-0.04693885,  1.220092  ],\n",
       "       [-0.02829302,  1.13490802],\n",
       "       [-0.02499988,  1.09863922],\n",
       "       [-0.08125999,  1.52848484],\n",
       "       [-0.05149786,  1.22503665],\n",
       "       [-0.03851951,  1.32144168],\n",
       "       [-0.03245467,  1.20174747],\n",
       "       [-0.01715396,  1.07835407],\n",
       "       [-0.04864836,  1.20837934],\n",
       "       [-0.03229304,  1.1369046 ],\n",
       "       [-0.06154601,  1.32552957],\n",
       "       [-0.03568256,  1.17423142],\n",
       "       [-0.02643789,  1.13475719],\n",
       "       [-0.03786495,  1.17336789],\n",
       "       [-0.06132022,  1.2788582 ],\n",
       "       [-0.03142303,  1.13981084],\n",
       "       [-0.04452328,  1.22888471],\n",
       "       [-0.0379195 ,  1.29356637],\n",
       "       [-0.06222234,  1.2809893 ],\n",
       "       [-0.06379702,  1.39155146],\n",
       "       [-0.03981126,  1.16825095],\n",
       "       [-0.04303393,  1.17075139],\n",
       "       [-0.04652306,  1.27922905],\n",
       "       [-0.06781   ,  1.45126394],\n",
       "       [-0.05724394,  1.26405546],\n",
       "       [-0.04803191,  1.2409011 ],\n",
       "       [-0.01459944,  1.08557469],\n",
       "       [-0.01661585,  1.11891854],\n",
       "       [-0.04232983,  1.15241366],\n",
       "       [-0.03751076,  1.19949748],\n",
       "       [-0.02418598,  1.149102  ],\n",
       "       [-0.1132847 ,  1.67922199],\n",
       "       [-0.027127  ,  1.16330731],\n",
       "       [-0.04828257,  1.19079673],\n",
       "       [-0.03068346,  1.16954405],\n",
       "       [-0.03567109,  1.1692227 ],\n",
       "       [-0.02132069,  1.11745617],\n",
       "       [-0.06149442,  1.26276443],\n",
       "       [-0.05094515,  1.38042787],\n",
       "       [-0.01285655,  1.14941124],\n",
       "       [-0.0637286 ,  1.27180033],\n",
       "       [-0.04871072,  1.34481985],\n",
       "       [-0.02997341,  1.18349016],\n",
       "       [-0.03312779,  1.21362613],\n",
       "       [-0.02812022,  1.24516836],\n",
       "       [-0.04721357,  1.22331828],\n",
       "       [-0.01217978,  1.06624764],\n",
       "       [-0.02617871,  1.22913346],\n",
       "       [-0.02461701,  1.09894432],\n",
       "       [-0.02773308,  1.13832695],\n",
       "       [-0.04551737,  1.2559058 ],\n",
       "       [-0.03456423,  1.18132144],\n",
       "       [-0.01400156,  1.11726884],\n",
       "       [-0.06297186,  1.41266218],\n",
       "       [-0.01777689,  1.17600659],\n",
       "       [-0.04961887,  1.25577109],\n",
       "       [-0.03940995,  1.15952994],\n",
       "       [-0.0433277 ,  1.21815426],\n",
       "       [-0.04497832,  1.21472002],\n",
       "       [-0.04927392,  1.21331025],\n",
       "       [-0.03846622,  1.17975062],\n",
       "       [-0.03944618,  1.27575963],\n",
       "       [-0.05139579,  1.23503281],\n",
       "       [-0.06441215,  1.32160892],\n",
       "       [-0.01778003,  1.09533441],\n",
       "       [-0.01219457,  1.15487969],\n",
       "       [-0.01917626,  1.09177994],\n",
       "       [-0.01454297,  1.16598768],\n",
       "       [-0.03788083,  1.17289695],\n",
       "       [-0.02816799,  1.24800757],\n",
       "       [-0.04057545,  1.16313336],\n",
       "       [-0.05750446,  1.30114513],\n",
       "       [-0.05457761,  1.26585127],\n",
       "       [-0.0482853 ,  1.26949738],\n",
       "       [-0.02322118,  1.13419312],\n",
       "       [-0.01691866,  1.0871728 ],\n",
       "       [-0.0426748 ,  1.24823351],\n",
       "       [-0.06454556,  1.3044801 ],\n",
       "       [-0.00229342,  1.06159489],\n",
       "       [-0.05698908,  1.2486116 ],\n",
       "       [-0.03456736,  1.18469929],\n",
       "       [-0.00705654,  1.0759884 ],\n",
       "       [-0.03250633,  1.24113757],\n",
       "       [-0.0156043 ,  1.07149221],\n",
       "       [-0.02648624,  1.10332758],\n",
       "       [-0.01011217,  1.06831963],\n",
       "       [-0.01628857,  1.198668  ],\n",
       "       [-0.03218493,  1.1653177 ],\n",
       "       [-0.06655815,  1.31450325],\n",
       "       [-0.02841867,  1.22577928],\n",
       "       [-0.05492098,  1.32999693],\n",
       "       [-0.03890615,  1.15900626],\n",
       "       [-0.05855091,  1.2643201 ],\n",
       "       [-0.0297194 ,  1.17767579],\n",
       "       [-0.00737912,  1.15127986],\n",
       "       [-0.05968904,  1.29747607],\n",
       "       [-0.0272296 ,  1.13671695],\n",
       "       [-0.07149407,  1.39893611],\n",
       "       [-0.07199699,  1.34025118],\n",
       "       [-0.04613385,  1.1996831 ],\n",
       "       [-0.06495531,  1.40025721],\n",
       "       [-0.01582051,  1.08936903],\n",
       "       [-0.0201209 ,  1.09380146],\n",
       "       [-0.07398661,  1.38226278],\n",
       "       [-0.03320644,  1.29630433],\n",
       "       [-0.02419762,  1.18389197],\n",
       "       [-0.04490716,  1.26478412],\n",
       "       [-0.03526692,  1.13121706],\n",
       "       [-0.03073304,  1.19657458],\n",
       "       [-0.05131684,  1.24929474],\n",
       "       [-0.02014804,  1.21771088],\n",
       "       [-0.02904055,  1.13958635],\n",
       "       [-0.05057539,  1.21167223],\n",
       "       [-0.03389347,  1.21970855],\n",
       "       [-0.02498392,  1.11905235],\n",
       "       [-0.03765104,  1.17645309],\n",
       "       [-0.05767851,  1.24713677],\n",
       "       [-0.05853925,  1.4005274 ],\n",
       "       [-0.05129143,  1.24038994],\n",
       "       [-0.01262407,  1.17034258],\n",
       "       [-0.05783767,  1.39312496],\n",
       "       [-0.05860421,  1.38745707],\n",
       "       [-0.05311569,  1.2355784 ],\n",
       "       [-0.03186353,  1.17961291],\n",
       "       [-0.03108516,  1.10240604],\n",
       "       [-0.0403876 ,  1.16283239],\n",
       "       [-0.07191016,  1.32340327],\n",
       "       [-0.03334437,  1.23402966],\n",
       "       [-0.05356704,  1.36557902],\n",
       "       [-0.04091257,  1.17013063],\n",
       "       [-0.07246737,  1.41626434],\n",
       "       [-0.04855561,  1.21128423],\n",
       "       [-0.01827   ,  1.10004617],\n",
       "       [-0.02459735,  1.10486812],\n",
       "       [-0.06184058,  1.27688257],\n",
       "       [-0.03271981,  1.16433287],\n",
       "       [-0.05254141,  1.29035336],\n",
       "       [-0.06496146,  1.34770272],\n",
       "       [-0.02549716,  1.11177837],\n",
       "       [-0.06572248,  1.414954  ],\n",
       "       [-0.03755672,  1.19373127],\n",
       "       [-0.02489463,  1.11212734],\n",
       "       [-0.07588178,  1.40585879],\n",
       "       [-0.04424982,  1.16110978],\n",
       "       [-0.02724394,  1.10832799],\n",
       "       [-0.02070729,  1.20440667],\n",
       "       [-0.0454867 ,  1.18590322],\n",
       "       [-0.05463519,  1.27308536],\n",
       "       [-0.03247354,  1.21983314],\n",
       "       [-0.05850029,  1.26723564],\n",
       "       [-0.04430192,  1.18453707],\n",
       "       [-0.02159329,  1.09604829],\n",
       "       [-0.04913936,  1.21990637],\n",
       "       [-0.04689444,  1.16235425],\n",
       "       [-0.05529735,  1.35934318],\n",
       "       [-0.02869513,  1.14657696],\n",
       "       [-0.0186702 ,  1.14498126],\n",
       "       [-0.03965359,  1.19167838],\n",
       "       [-0.02779403,  1.18984907],\n",
       "       [-0.02372742,  1.13062586],\n",
       "       [-0.081419  ,  1.47661246],\n",
       "       [-0.02834092,  1.1114996 ],\n",
       "       [-0.03637225,  1.13164843],\n",
       "       [-0.05399037,  1.31960661],\n",
       "       [-0.03663842,  1.13375229],\n",
       "       [-0.03463441,  1.14688721],\n",
       "       [-0.03701984,  1.30626602],\n",
       "       [-0.00930104,  1.07077606],\n",
       "       [-0.04406223,  1.2820491 ],\n",
       "       [-0.04204078,  1.16129205],\n",
       "       [-0.02011109,  1.11122567],\n",
       "       [-0.01044432,  1.07774578],\n",
       "       [-0.04233494,  1.18745571],\n",
       "       [-0.04980578,  1.26189649],\n",
       "       [-0.01339062,  1.11975282],\n",
       "       [-0.01220369,  1.07212915],\n",
       "       [-0.04870824,  1.23369607],\n",
       "       [-0.09373663,  1.57700297],\n",
       "       [-0.07368365,  1.41815258],\n",
       "       [-0.03868972,  1.18911442],\n",
       "       [-0.04175226,  1.24373504],\n",
       "       [-0.06232482,  1.27468898],\n",
       "       [-0.04813925,  1.31094   ],\n",
       "       [-0.0802512 ,  1.45902823],\n",
       "       [-0.06153656,  1.37592327],\n",
       "       [-0.03121156,  1.18731402],\n",
       "       [-0.0403011 ,  1.16752302],\n",
       "       [-0.05061548,  1.25039754],\n",
       "       [-0.02831664,  1.10355622],\n",
       "       [-0.02986286,  1.3479837 ],\n",
       "       [-0.03768299,  1.20810534],\n",
       "       [-0.02974184,  1.21264427],\n",
       "       [-0.04936219,  1.20735277],\n",
       "       [-0.06555829,  1.27918859],\n",
       "       [-0.01844091,  1.11120919],\n",
       "       [-0.04377405,  1.16457508],\n",
       "       [-0.0592993 ,  1.31661665],\n",
       "       [-0.02961398,  1.10998467],\n",
       "       [-0.05688483,  1.30202053],\n",
       "       [-0.01743389,  1.08929842],\n",
       "       [-0.01419804,  1.21056161],\n",
       "       [-0.02961567,  1.2884767 ],\n",
       "       [-0.06407409,  1.40610659],\n",
       "       [-0.05687131,  1.32710273],\n",
       "       [-0.03677689,  1.14587554],\n",
       "       [-0.02178135,  1.17504074],\n",
       "       [-0.02643497,  1.17902026],\n",
       "       [-0.03455328,  1.12691292],\n",
       "       [-0.05443523,  1.23860243],\n",
       "       [-0.0333367 ,  1.2262973 ],\n",
       "       [-0.01469282,  1.08738216],\n",
       "       [-0.02180703,  1.08948291],\n",
       "       [-0.05965765,  1.70469655],\n",
       "       [-0.01821269,  1.2857777 ],\n",
       "       [-0.04470073,  1.25282245],\n",
       "       [-0.00346216,  1.09599174],\n",
       "       [-0.03776327,  1.20360212],\n",
       "       [-0.02390135,  1.19903732],\n",
       "       [-0.04321576,  1.19868791],\n",
       "       [-0.05050528,  1.24890251],\n",
       "       [-0.04235923,  1.31006961],\n",
       "       [-0.02974249,  1.1922723 ],\n",
       "       [-0.04217575,  1.18847329],\n",
       "       [-0.02683299,  1.16460809],\n",
       "       [-0.04852763,  1.2247826 ],\n",
       "       [-0.03955316,  1.2212595 ],\n",
       "       [-0.00300356,  1.05700665],\n",
       "       [-0.08626462,  1.48619577],\n",
       "       [-0.03983724,  1.17432279],\n",
       "       [-0.0654693 ,  1.43774477],\n",
       "       [-0.05860589,  1.23665642],\n",
       "       [-0.05734689,  1.27268883],\n",
       "       [-0.03667757,  1.14428266],\n",
       "       [-0.04841863,  1.17770831],\n",
       "       [-0.03475702,  1.18491523],\n",
       "       [-0.0477901 ,  1.19628383],\n",
       "       [-0.05384813,  1.27924713],\n",
       "       [-0.00618085,  1.104679  ],\n",
       "       [-0.06167165,  1.30446795],\n",
       "       [-0.05994076,  1.35699332],\n",
       "       [-0.07088858,  1.40713538],\n",
       "       [-0.02448699,  1.17932411],\n",
       "       [-0.04257229,  1.17352538],\n",
       "       [-0.03571638,  1.24396165],\n",
       "       [-0.06642697,  1.31199083],\n",
       "       [-0.05802176,  1.23291934],\n",
       "       [-0.02075621,  1.1868648 ],\n",
       "       [-0.02192139,  1.14633619],\n",
       "       [-0.02158686,  1.22420319],\n",
       "       [-0.05871988,  1.3619062 ],\n",
       "       [-0.05045267,  1.24918901],\n",
       "       [-0.05453243,  1.30568731],\n",
       "       [-0.03464824,  1.14115749],\n",
       "       [-0.0570326 ,  1.2556505 ],\n",
       "       [-0.00911386,  1.06290045],\n",
       "       [-0.06901731,  1.41189229],\n",
       "       [-0.0364383 ,  1.19627628],\n",
       "       [-0.03380555,  1.25174494],\n",
       "       [-0.0198373 ,  1.16927786],\n",
       "       [-0.05597671,  1.2902952 ],\n",
       "       [-0.02002105,  1.1966475 ],\n",
       "       [-0.04218594,  1.21061496],\n",
       "       [-0.06054928,  1.3825319 ],\n",
       "       [-0.05957352,  1.28192154],\n",
       "       [-0.05573088,  1.41843501],\n",
       "       [-0.02980606,  1.17454854],\n",
       "       [-0.04236824,  1.17868419],\n",
       "       [-0.04221545,  1.18966121],\n",
       "       [-0.02733101,  1.17361399],\n",
       "       [-0.0409585 ,  1.28501339],\n",
       "       [-0.03339918,  1.14763514],\n",
       "       [-0.05061814,  1.28910712],\n",
       "       [-0.0193674 ,  1.09937186],\n",
       "       [-0.0369076 ,  1.16582733],\n",
       "       [-0.04733074,  1.24318649],\n",
       "       [-0.0177972 ,  1.19692893],\n",
       "       [-0.0255786 ,  1.16846657],\n",
       "       [-0.06908239,  1.28250055],\n",
       "       [-0.01264897,  1.07345401],\n",
       "       [-0.04884182,  1.20585765],\n",
       "       [-0.07766709,  1.36652982],\n",
       "       [-0.04923471,  1.24286666],\n",
       "       [-0.03916521,  1.19994391],\n",
       "       [-0.04323114,  1.1950467 ],\n",
       "       [-0.04562564,  1.24123824],\n",
       "       [-0.03200062,  1.14868698],\n",
       "       [-0.04706219,  1.24566298]])"
      ]
     },
     "execution_count": 103,
     "metadata": {},
     "output_type": "execute_result"
    }
   ],
   "source": [
    "simulated_mu_sigma"
   ]
  },
  {
   "cell_type": "code",
   "execution_count": 188,
   "metadata": {},
   "outputs": [
    {
     "data": {
      "text/plain": [
       "<matplotlib.collections.PathCollection at 0x1f06dd6b9b0>"
      ]
     },
     "execution_count": 188,
     "metadata": {},
     "output_type": "execute_result"
    },
    {
     "data": {
      "image/png": "[encoded data removed]",
      "text/plain": [
       "<Figure size 640x480 with 1 Axes>"
      ]
     },
     "metadata": {},
     "output_type": "display_data"
    }
   ],
   "source": [
    "plt.scatter(x = simulated_mu_sigma[:,1], y = simulated_mu_sigma[:,0])\n",
    "plt.scatter(sigmamin, mumin, color = 'red')\n",
    "#plt.scatter(x = lower_optimal_PF[:,0], y = lower_optimal_PF[:,1])"
   ]
  },
  {
   "cell_type": "code",
   "execution_count": 186,
   "metadata": {},
   "outputs": [
    {
     "data": {
      "text/plain": [
       "<matplotlib.collections.PathCollection at 0x1f06e31a000>"
      ]
     },
     "execution_count": 186,
     "metadata": {},
     "output_type": "execute_result"
    },
    {
     "data": {
      "image/png": "[encoded data removed]",
      "text/plain": [
       "<Figure size 640x480 with 1 Axes>"
      ]
     },
     "metadata": {},
     "output_type": "display_data"
    }
   ],
   "source": [
    "sns.scatterplot(x = simulated_mu_sigma[:,1], y = simulated_mu_sigma[:,0], palette='viridis', hue=simulated_mu_sigma[:,0])\n",
    "plt.xlim(1,1.5)\n",
    "plt.ylim(-0.05, 0.05)\n",
    "plt.scatter(sigmamin, mumin)\n",
    "plt.scatter(x = lower_optimal_PF[:,0], y = lower_optimal_PF[:,1])"
   ]
  },
  {
   "cell_type": "code",
   "execution_count": 106,
   "metadata": {},
   "outputs": [
    {
     "data": {
      "text/plain": [
       "array([[0.02813735]])"
      ]
     },
     "execution_count": 106,
     "metadata": {},
     "output_type": "execute_result"
    }
   ],
   "source": [
    "mumin"
   ]
  },
  {
   "cell_type": "code",
   "execution_count": 107,
   "metadata": {},
   "outputs": [
    {
     "data": {
      "text/plain": [
       "array([[1.0571092]])"
      ]
     },
     "execution_count": 107,
     "metadata": {},
     "output_type": "execute_result"
    }
   ],
   "source": [
    "sigmamin"
   ]
  },
  {
   "cell_type": "code",
   "execution_count": null,
   "metadata": {},
   "outputs": [],
   "source": []
  }
 ],
 "metadata": {
  "kernelspec": {
   "display_name": "Python 3.8.13 ('myenv')",
   "language": "python",
   "name": "python3"
  },
  "language_info": {
   "codemirror_mode": {
    "name": "ipython",
    "version": 3
   },
   "file_extension": ".py",
   "mimetype": "text/x-python",
   "name": "python",
   "nbconvert_exporter": "python",
   "pygments_lexer": "ipython3",
   "version": "3.12.0"
  },
  "orig_nbformat": 4,
  "vscode": {
   "interpreter": {
    "hash": "cd0b020970a8e4924322b4079227d3d7c71de69d1e4316cef92b299ebb57a50b"
   }
  }
 },
 "nbformat": 4,
 "nbformat_minor": 2
}
